{
 "cells": [
  {
   "cell_type": "code",
   "execution_count": 2,
   "id": "dd11c44c",
   "metadata": {},
   "outputs": [],
   "source": [
    "import pandas as pd"
   ]
  },
  {
   "cell_type": "code",
   "execution_count": 3,
   "id": "7f1085c6",
   "metadata": {},
   "outputs": [],
   "source": [
    "climb = pd.read_csv(\"climbing_statistics.csv\")\n",
    "weather = pd.read_csv(\"Rainier_Weather.csv\")"
   ]
  },
  {
   "cell_type": "markdown",
   "id": "07f386ba",
   "metadata": {},
   "source": [
    "# Exploring Dataset"
   ]
  },
  {
   "cell_type": "code",
   "execution_count": 4,
   "id": "88b59cc9",
   "metadata": {},
   "outputs": [
    {
     "name": "stdout",
     "output_type": "stream",
     "text": [
      "<class 'pandas.core.frame.DataFrame'>\n",
      "RangeIndex: 4077 entries, 0 to 4076\n",
      "Data columns (total 5 columns):\n",
      " #   Column              Non-Null Count  Dtype  \n",
      "---  ------              --------------  -----  \n",
      " 0   Date                4077 non-null   object \n",
      " 1   Route               4077 non-null   object \n",
      " 2   Attempted           4077 non-null   int64  \n",
      " 3   Succeeded           4077 non-null   int64  \n",
      " 4   Success Percentage  4077 non-null   float64\n",
      "dtypes: float64(1), int64(2), object(2)\n",
      "memory usage: 159.4+ KB\n"
     ]
    }
   ],
   "source": [
    "climb.info()"
   ]
  },
  {
   "cell_type": "code",
   "execution_count": 5,
   "id": "cf3fdd27",
   "metadata": {},
   "outputs": [
    {
     "name": "stdout",
     "output_type": "stream",
     "text": [
      "<class 'pandas.core.frame.DataFrame'>\n",
      "RangeIndex: 464 entries, 0 to 463\n",
      "Data columns (total 7 columns):\n",
      " #   Column                 Non-Null Count  Dtype  \n",
      "---  ------                 --------------  -----  \n",
      " 0   Date                   464 non-null    object \n",
      " 1   Battery Voltage AVG    464 non-null    float64\n",
      " 2   Temperature AVG        464 non-null    float64\n",
      " 3   Relative Humidity AVG  464 non-null    float64\n",
      " 4   Wind Speed Daily AVG   464 non-null    float64\n",
      " 5   Wind Direction AVG     464 non-null    float64\n",
      " 6   Solare Radiation AVG   464 non-null    float64\n",
      "dtypes: float64(6), object(1)\n",
      "memory usage: 25.5+ KB\n"
     ]
    }
   ],
   "source": [
    "weather.info()"
   ]
  },
  {
   "cell_type": "code",
   "execution_count": 6,
   "id": "d55bbc71",
   "metadata": {},
   "outputs": [
    {
     "data": {
      "text/html": [
       "<div>\n",
       "<style scoped>\n",
       "    .dataframe tbody tr th:only-of-type {\n",
       "        vertical-align: middle;\n",
       "    }\n",
       "\n",
       "    .dataframe tbody tr th {\n",
       "        vertical-align: top;\n",
       "    }\n",
       "\n",
       "    .dataframe thead th {\n",
       "        text-align: right;\n",
       "    }\n",
       "</style>\n",
       "<table border=\"1\" class=\"dataframe\">\n",
       "  <thead>\n",
       "    <tr style=\"text-align: right;\">\n",
       "      <th></th>\n",
       "      <th>Date</th>\n",
       "      <th>Route</th>\n",
       "      <th>Attempted</th>\n",
       "      <th>Succeeded</th>\n",
       "      <th>Success Percentage</th>\n",
       "    </tr>\n",
       "  </thead>\n",
       "  <tbody>\n",
       "    <tr>\n",
       "      <th>0</th>\n",
       "      <td>11/27/2015</td>\n",
       "      <td>Disappointment Cleaver</td>\n",
       "      <td>2</td>\n",
       "      <td>0</td>\n",
       "      <td>0.0</td>\n",
       "    </tr>\n",
       "    <tr>\n",
       "      <th>1</th>\n",
       "      <td>11/21/2015</td>\n",
       "      <td>Disappointment Cleaver</td>\n",
       "      <td>3</td>\n",
       "      <td>0</td>\n",
       "      <td>0.0</td>\n",
       "    </tr>\n",
       "    <tr>\n",
       "      <th>2</th>\n",
       "      <td>10/15/2015</td>\n",
       "      <td>Disappointment Cleaver</td>\n",
       "      <td>2</td>\n",
       "      <td>0</td>\n",
       "      <td>0.0</td>\n",
       "    </tr>\n",
       "    <tr>\n",
       "      <th>3</th>\n",
       "      <td>10/13/2015</td>\n",
       "      <td>Little Tahoma</td>\n",
       "      <td>8</td>\n",
       "      <td>0</td>\n",
       "      <td>0.0</td>\n",
       "    </tr>\n",
       "    <tr>\n",
       "      <th>4</th>\n",
       "      <td>10/9/2015</td>\n",
       "      <td>Disappointment Cleaver</td>\n",
       "      <td>2</td>\n",
       "      <td>0</td>\n",
       "      <td>0.0</td>\n",
       "    </tr>\n",
       "  </tbody>\n",
       "</table>\n",
       "</div>"
      ],
      "text/plain": [
       "         Date                   Route  Attempted  Succeeded  \\\n",
       "0  11/27/2015  Disappointment Cleaver          2          0   \n",
       "1  11/21/2015  Disappointment Cleaver          3          0   \n",
       "2  10/15/2015  Disappointment Cleaver          2          0   \n",
       "3  10/13/2015           Little Tahoma          8          0   \n",
       "4   10/9/2015  Disappointment Cleaver          2          0   \n",
       "\n",
       "   Success Percentage  \n",
       "0                 0.0  \n",
       "1                 0.0  \n",
       "2                 0.0  \n",
       "3                 0.0  \n",
       "4                 0.0  "
      ]
     },
     "execution_count": 6,
     "metadata": {},
     "output_type": "execute_result"
    }
   ],
   "source": [
    "climb.head()"
   ]
  },
  {
   "cell_type": "code",
   "execution_count": 7,
   "id": "cf2b6b5f",
   "metadata": {
    "scrolled": true
   },
   "outputs": [
    {
     "data": {
      "text/plain": [
       "array(['Disappointment Cleaver', 'Little Tahoma', 'Kautz Glacier',\n",
       "       'Emmons-Winthrop', 'glacier only - no summit attempt',\n",
       "       'Fuhrers Finger', 'Success Cleaver', 'Liberty RIngraham Directge',\n",
       "       'Kautz Cleaver', 'Tahoma Glacier', 'Ptarmigan RIngraham Directge',\n",
       "       'Mowich Face', 'Ingraham Direct', 'Sunset RIngraham Directge',\n",
       "       'Curtis RIngraham Directge', 'Tahoma Cleaver', 'Gibralter Ledges',\n",
       "       'Nisqually Glacier', 'Wilson Headwall', 'Gibralter Chute',\n",
       "       \"Fuhrer's Finger\", 'Unknown', 'Edmonds HW', 'Sunset Amphitheater',\n",
       "       'Kautz Headwall', 'Liberty Wall'], dtype=object)"
      ]
     },
     "execution_count": 7,
     "metadata": {},
     "output_type": "execute_result"
    }
   ],
   "source": [
    "climb.Route.unique()"
   ]
  },
  {
   "cell_type": "code",
   "execution_count": 8,
   "id": "d1a52afb",
   "metadata": {},
   "outputs": [
    {
     "data": {
      "text/html": [
       "<div>\n",
       "<style scoped>\n",
       "    .dataframe tbody tr th:only-of-type {\n",
       "        vertical-align: middle;\n",
       "    }\n",
       "\n",
       "    .dataframe tbody tr th {\n",
       "        vertical-align: top;\n",
       "    }\n",
       "\n",
       "    .dataframe thead th {\n",
       "        text-align: right;\n",
       "    }\n",
       "</style>\n",
       "<table border=\"1\" class=\"dataframe\">\n",
       "  <thead>\n",
       "    <tr style=\"text-align: right;\">\n",
       "      <th></th>\n",
       "      <th>Date</th>\n",
       "      <th>Route</th>\n",
       "      <th>Attempted</th>\n",
       "      <th>Succeeded</th>\n",
       "      <th>Success Percentage</th>\n",
       "    </tr>\n",
       "  </thead>\n",
       "  <tbody>\n",
       "    <tr>\n",
       "      <th>4072</th>\n",
       "      <td>1/16/2014</td>\n",
       "      <td>Little Tahoma</td>\n",
       "      <td>2</td>\n",
       "      <td>0</td>\n",
       "      <td>0.000000</td>\n",
       "    </tr>\n",
       "    <tr>\n",
       "      <th>4073</th>\n",
       "      <td>1/6/2014</td>\n",
       "      <td>Disappointment Cleaver</td>\n",
       "      <td>8</td>\n",
       "      <td>0</td>\n",
       "      <td>0.000000</td>\n",
       "    </tr>\n",
       "    <tr>\n",
       "      <th>4074</th>\n",
       "      <td>1/6/2014</td>\n",
       "      <td>Disappointment Cleaver</td>\n",
       "      <td>8</td>\n",
       "      <td>0</td>\n",
       "      <td>0.000000</td>\n",
       "    </tr>\n",
       "    <tr>\n",
       "      <th>4075</th>\n",
       "      <td>1/5/2014</td>\n",
       "      <td>Disappointment Cleaver</td>\n",
       "      <td>2</td>\n",
       "      <td>0</td>\n",
       "      <td>0.000000</td>\n",
       "    </tr>\n",
       "    <tr>\n",
       "      <th>4076</th>\n",
       "      <td>1/4/2014</td>\n",
       "      <td>Gibralter Ledges</td>\n",
       "      <td>3</td>\n",
       "      <td>2</td>\n",
       "      <td>0.666667</td>\n",
       "    </tr>\n",
       "  </tbody>\n",
       "</table>\n",
       "</div>"
      ],
      "text/plain": [
       "           Date                   Route  Attempted  Succeeded  \\\n",
       "4072  1/16/2014           Little Tahoma          2          0   \n",
       "4073   1/6/2014  Disappointment Cleaver          8          0   \n",
       "4074   1/6/2014  Disappointment Cleaver          8          0   \n",
       "4075   1/5/2014  Disappointment Cleaver          2          0   \n",
       "4076   1/4/2014        Gibralter Ledges          3          2   \n",
       "\n",
       "      Success Percentage  \n",
       "4072            0.000000  \n",
       "4073            0.000000  \n",
       "4074            0.000000  \n",
       "4075            0.000000  \n",
       "4076            0.666667  "
      ]
     },
     "execution_count": 8,
     "metadata": {},
     "output_type": "execute_result"
    }
   ],
   "source": [
    "climb.tail()"
   ]
  },
  {
   "cell_type": "code",
   "execution_count": 9,
   "id": "0c8bf4e4",
   "metadata": {},
   "outputs": [
    {
     "data": {
      "text/plain": [
       "(4077, 5)"
      ]
     },
     "execution_count": 9,
     "metadata": {},
     "output_type": "execute_result"
    }
   ],
   "source": [
    "climb.shape"
   ]
  },
  {
   "cell_type": "code",
   "execution_count": 10,
   "id": "6ac4ee1f",
   "metadata": {},
   "outputs": [
    {
     "data": {
      "text/plain": [
       "Date                  0\n",
       "Route                 0\n",
       "Attempted             0\n",
       "Succeeded             0\n",
       "Success Percentage    0\n",
       "dtype: int64"
      ]
     },
     "execution_count": 10,
     "metadata": {},
     "output_type": "execute_result"
    }
   ],
   "source": [
    "climb.isnull().sum()"
   ]
  },
  {
   "cell_type": "code",
   "execution_count": 11,
   "id": "9aaaf756",
   "metadata": {},
   "outputs": [
    {
     "data": {
      "text/html": [
       "<div>\n",
       "<style scoped>\n",
       "    .dataframe tbody tr th:only-of-type {\n",
       "        vertical-align: middle;\n",
       "    }\n",
       "\n",
       "    .dataframe tbody tr th {\n",
       "        vertical-align: top;\n",
       "    }\n",
       "\n",
       "    .dataframe thead th {\n",
       "        text-align: right;\n",
       "    }\n",
       "</style>\n",
       "<table border=\"1\" class=\"dataframe\">\n",
       "  <thead>\n",
       "    <tr style=\"text-align: right;\">\n",
       "      <th></th>\n",
       "      <th>Date</th>\n",
       "      <th>Battery Voltage AVG</th>\n",
       "      <th>Temperature AVG</th>\n",
       "      <th>Relative Humidity AVG</th>\n",
       "      <th>Wind Speed Daily AVG</th>\n",
       "      <th>Wind Direction AVG</th>\n",
       "      <th>Solare Radiation AVG</th>\n",
       "    </tr>\n",
       "  </thead>\n",
       "  <tbody>\n",
       "    <tr>\n",
       "      <th>0</th>\n",
       "      <td>12/31/2015</td>\n",
       "      <td>13.845000</td>\n",
       "      <td>19.062917</td>\n",
       "      <td>21.870833</td>\n",
       "      <td>21.977792</td>\n",
       "      <td>62.325833</td>\n",
       "      <td>84.915292</td>\n",
       "    </tr>\n",
       "    <tr>\n",
       "      <th>1</th>\n",
       "      <td>12/30/2015</td>\n",
       "      <td>13.822917</td>\n",
       "      <td>14.631208</td>\n",
       "      <td>18.493833</td>\n",
       "      <td>3.540542</td>\n",
       "      <td>121.505417</td>\n",
       "      <td>86.192833</td>\n",
       "    </tr>\n",
       "    <tr>\n",
       "      <th>2</th>\n",
       "      <td>12/29/2015</td>\n",
       "      <td>13.834583</td>\n",
       "      <td>6.614292</td>\n",
       "      <td>34.072917</td>\n",
       "      <td>0.000000</td>\n",
       "      <td>130.291667</td>\n",
       "      <td>85.100917</td>\n",
       "    </tr>\n",
       "    <tr>\n",
       "      <th>3</th>\n",
       "      <td>12/28/2015</td>\n",
       "      <td>13.710417</td>\n",
       "      <td>8.687042</td>\n",
       "      <td>70.557917</td>\n",
       "      <td>0.000000</td>\n",
       "      <td>164.683750</td>\n",
       "      <td>86.241250</td>\n",
       "    </tr>\n",
       "    <tr>\n",
       "      <th>4</th>\n",
       "      <td>12/27/2015</td>\n",
       "      <td>13.362500</td>\n",
       "      <td>14.140417</td>\n",
       "      <td>95.754167</td>\n",
       "      <td>0.000000</td>\n",
       "      <td>268.479167</td>\n",
       "      <td>31.090708</td>\n",
       "    </tr>\n",
       "  </tbody>\n",
       "</table>\n",
       "</div>"
      ],
      "text/plain": [
       "         Date  Battery Voltage AVG  Temperature AVG  Relative Humidity AVG  \\\n",
       "0  12/31/2015            13.845000        19.062917              21.870833   \n",
       "1  12/30/2015            13.822917        14.631208              18.493833   \n",
       "2  12/29/2015            13.834583         6.614292              34.072917   \n",
       "3  12/28/2015            13.710417         8.687042              70.557917   \n",
       "4  12/27/2015            13.362500        14.140417              95.754167   \n",
       "\n",
       "   Wind Speed Daily AVG  Wind Direction AVG  Solare Radiation AVG  \n",
       "0             21.977792           62.325833             84.915292  \n",
       "1              3.540542          121.505417             86.192833  \n",
       "2              0.000000          130.291667             85.100917  \n",
       "3              0.000000          164.683750             86.241250  \n",
       "4              0.000000          268.479167             31.090708  "
      ]
     },
     "execution_count": 11,
     "metadata": {},
     "output_type": "execute_result"
    }
   ],
   "source": [
    "weather.head()"
   ]
  },
  {
   "cell_type": "code",
   "execution_count": 12,
   "id": "d5a0f4b0",
   "metadata": {},
   "outputs": [
    {
     "data": {
      "text/plain": [
       "(464, 7)"
      ]
     },
     "execution_count": 12,
     "metadata": {},
     "output_type": "execute_result"
    }
   ],
   "source": [
    "weather.shape"
   ]
  },
  {
   "cell_type": "code",
   "execution_count": 13,
   "id": "f35e0656",
   "metadata": {
    "scrolled": true
   },
   "outputs": [
    {
     "data": {
      "text/html": [
       "<div>\n",
       "<style scoped>\n",
       "    .dataframe tbody tr th:only-of-type {\n",
       "        vertical-align: middle;\n",
       "    }\n",
       "\n",
       "    .dataframe tbody tr th {\n",
       "        vertical-align: top;\n",
       "    }\n",
       "\n",
       "    .dataframe thead th {\n",
       "        text-align: right;\n",
       "    }\n",
       "</style>\n",
       "<table border=\"1\" class=\"dataframe\">\n",
       "  <thead>\n",
       "    <tr style=\"text-align: right;\">\n",
       "      <th></th>\n",
       "      <th>Date</th>\n",
       "      <th>Battery Voltage AVG</th>\n",
       "      <th>Temperature AVG</th>\n",
       "      <th>Relative Humidity AVG</th>\n",
       "      <th>Wind Speed Daily AVG</th>\n",
       "      <th>Wind Direction AVG</th>\n",
       "      <th>Solare Radiation AVG</th>\n",
       "    </tr>\n",
       "  </thead>\n",
       "  <tbody>\n",
       "    <tr>\n",
       "      <th>459</th>\n",
       "      <td>9/27/2014</td>\n",
       "      <td>13.467083</td>\n",
       "      <td>33.318750</td>\n",
       "      <td>60.200417</td>\n",
       "      <td>7.140917</td>\n",
       "      <td>116.294583</td>\n",
       "      <td>227.597125</td>\n",
       "    </tr>\n",
       "    <tr>\n",
       "      <th>460</th>\n",
       "      <td>9/26/2014</td>\n",
       "      <td>13.532500</td>\n",
       "      <td>28.238333</td>\n",
       "      <td>100.000000</td>\n",
       "      <td>0.897625</td>\n",
       "      <td>259.645833</td>\n",
       "      <td>114.400833</td>\n",
       "    </tr>\n",
       "    <tr>\n",
       "      <th>461</th>\n",
       "      <td>9/25/2014</td>\n",
       "      <td>13.648333</td>\n",
       "      <td>26.823750</td>\n",
       "      <td>99.854167</td>\n",
       "      <td>3.166208</td>\n",
       "      <td>278.604167</td>\n",
       "      <td>142.698917</td>\n",
       "    </tr>\n",
       "    <tr>\n",
       "      <th>462</th>\n",
       "      <td>9/24/2014</td>\n",
       "      <td>13.168750</td>\n",
       "      <td>29.702917</td>\n",
       "      <td>100.000000</td>\n",
       "      <td>45.915000</td>\n",
       "      <td>278.054167</td>\n",
       "      <td>37.873708</td>\n",
       "    </tr>\n",
       "    <tr>\n",
       "      <th>463</th>\n",
       "      <td>9/23/2014</td>\n",
       "      <td>13.056667</td>\n",
       "      <td>32.857333</td>\n",
       "      <td>100.000000</td>\n",
       "      <td>65.110667</td>\n",
       "      <td>254.273333</td>\n",
       "      <td>16.593800</td>\n",
       "    </tr>\n",
       "  </tbody>\n",
       "</table>\n",
       "</div>"
      ],
      "text/plain": [
       "          Date  Battery Voltage AVG  Temperature AVG  Relative Humidity AVG  \\\n",
       "459  9/27/2014            13.467083        33.318750              60.200417   \n",
       "460  9/26/2014            13.532500        28.238333             100.000000   \n",
       "461  9/25/2014            13.648333        26.823750              99.854167   \n",
       "462  9/24/2014            13.168750        29.702917             100.000000   \n",
       "463  9/23/2014            13.056667        32.857333             100.000000   \n",
       "\n",
       "     Wind Speed Daily AVG  Wind Direction AVG  Solare Radiation AVG  \n",
       "459              7.140917          116.294583            227.597125  \n",
       "460              0.897625          259.645833            114.400833  \n",
       "461              3.166208          278.604167            142.698917  \n",
       "462             45.915000          278.054167             37.873708  \n",
       "463             65.110667          254.273333             16.593800  "
      ]
     },
     "execution_count": 13,
     "metadata": {},
     "output_type": "execute_result"
    }
   ],
   "source": [
    "weather.tail()"
   ]
  },
  {
   "cell_type": "markdown",
   "id": "9cf46577",
   "metadata": {},
   "source": [
    "# Merging the two datasets and cleaning it"
   ]
  },
  {
   "cell_type": "code",
   "execution_count": 14,
   "id": "8cb39daa",
   "metadata": {},
   "outputs": [],
   "source": [
    "merged_data = pd.merge(weather, climb, how = 'left')"
   ]
  },
  {
   "cell_type": "code",
   "execution_count": 15,
   "id": "5b50dcfe",
   "metadata": {},
   "outputs": [
    {
     "data": {
      "text/html": [
       "<div>\n",
       "<style scoped>\n",
       "    .dataframe tbody tr th:only-of-type {\n",
       "        vertical-align: middle;\n",
       "    }\n",
       "\n",
       "    .dataframe tbody tr th {\n",
       "        vertical-align: top;\n",
       "    }\n",
       "\n",
       "    .dataframe thead th {\n",
       "        text-align: right;\n",
       "    }\n",
       "</style>\n",
       "<table border=\"1\" class=\"dataframe\">\n",
       "  <thead>\n",
       "    <tr style=\"text-align: right;\">\n",
       "      <th></th>\n",
       "      <th>Date</th>\n",
       "      <th>Battery Voltage AVG</th>\n",
       "      <th>Temperature AVG</th>\n",
       "      <th>Relative Humidity AVG</th>\n",
       "      <th>Wind Speed Daily AVG</th>\n",
       "      <th>Wind Direction AVG</th>\n",
       "      <th>Solare Radiation AVG</th>\n",
       "      <th>Route</th>\n",
       "      <th>Attempted</th>\n",
       "      <th>Succeeded</th>\n",
       "      <th>Success Percentage</th>\n",
       "    </tr>\n",
       "  </thead>\n",
       "  <tbody>\n",
       "    <tr>\n",
       "      <th>0</th>\n",
       "      <td>12/31/2015</td>\n",
       "      <td>13.845000</td>\n",
       "      <td>19.062917</td>\n",
       "      <td>21.870833</td>\n",
       "      <td>21.977792</td>\n",
       "      <td>62.325833</td>\n",
       "      <td>84.915292</td>\n",
       "      <td>NaN</td>\n",
       "      <td>NaN</td>\n",
       "      <td>NaN</td>\n",
       "      <td>NaN</td>\n",
       "    </tr>\n",
       "    <tr>\n",
       "      <th>1</th>\n",
       "      <td>12/30/2015</td>\n",
       "      <td>13.822917</td>\n",
       "      <td>14.631208</td>\n",
       "      <td>18.493833</td>\n",
       "      <td>3.540542</td>\n",
       "      <td>121.505417</td>\n",
       "      <td>86.192833</td>\n",
       "      <td>NaN</td>\n",
       "      <td>NaN</td>\n",
       "      <td>NaN</td>\n",
       "      <td>NaN</td>\n",
       "    </tr>\n",
       "    <tr>\n",
       "      <th>2</th>\n",
       "      <td>12/29/2015</td>\n",
       "      <td>13.834583</td>\n",
       "      <td>6.614292</td>\n",
       "      <td>34.072917</td>\n",
       "      <td>0.000000</td>\n",
       "      <td>130.291667</td>\n",
       "      <td>85.100917</td>\n",
       "      <td>NaN</td>\n",
       "      <td>NaN</td>\n",
       "      <td>NaN</td>\n",
       "      <td>NaN</td>\n",
       "    </tr>\n",
       "    <tr>\n",
       "      <th>3</th>\n",
       "      <td>12/28/2015</td>\n",
       "      <td>13.710417</td>\n",
       "      <td>8.687042</td>\n",
       "      <td>70.557917</td>\n",
       "      <td>0.000000</td>\n",
       "      <td>164.683750</td>\n",
       "      <td>86.241250</td>\n",
       "      <td>NaN</td>\n",
       "      <td>NaN</td>\n",
       "      <td>NaN</td>\n",
       "      <td>NaN</td>\n",
       "    </tr>\n",
       "    <tr>\n",
       "      <th>4</th>\n",
       "      <td>12/27/2015</td>\n",
       "      <td>13.362500</td>\n",
       "      <td>14.140417</td>\n",
       "      <td>95.754167</td>\n",
       "      <td>0.000000</td>\n",
       "      <td>268.479167</td>\n",
       "      <td>31.090708</td>\n",
       "      <td>NaN</td>\n",
       "      <td>NaN</td>\n",
       "      <td>NaN</td>\n",
       "      <td>NaN</td>\n",
       "    </tr>\n",
       "  </tbody>\n",
       "</table>\n",
       "</div>"
      ],
      "text/plain": [
       "         Date  Battery Voltage AVG  Temperature AVG  Relative Humidity AVG  \\\n",
       "0  12/31/2015            13.845000        19.062917              21.870833   \n",
       "1  12/30/2015            13.822917        14.631208              18.493833   \n",
       "2  12/29/2015            13.834583         6.614292              34.072917   \n",
       "3  12/28/2015            13.710417         8.687042              70.557917   \n",
       "4  12/27/2015            13.362500        14.140417              95.754167   \n",
       "\n",
       "   Wind Speed Daily AVG  Wind Direction AVG  Solare Radiation AVG Route  \\\n",
       "0             21.977792           62.325833             84.915292   NaN   \n",
       "1              3.540542          121.505417             86.192833   NaN   \n",
       "2              0.000000          130.291667             85.100917   NaN   \n",
       "3              0.000000          164.683750             86.241250   NaN   \n",
       "4              0.000000          268.479167             31.090708   NaN   \n",
       "\n",
       "   Attempted  Succeeded  Success Percentage  \n",
       "0        NaN        NaN                 NaN  \n",
       "1        NaN        NaN                 NaN  \n",
       "2        NaN        NaN                 NaN  \n",
       "3        NaN        NaN                 NaN  \n",
       "4        NaN        NaN                 NaN  "
      ]
     },
     "execution_count": 15,
     "metadata": {},
     "output_type": "execute_result"
    }
   ],
   "source": [
    "merged_data.head()"
   ]
  },
  {
   "cell_type": "code",
   "execution_count": 16,
   "id": "504ade23",
   "metadata": {},
   "outputs": [
    {
     "data": {
      "text/plain": [
       "Date                       0\n",
       "Battery Voltage AVG        0\n",
       "Temperature AVG            0\n",
       "Relative Humidity AVG      0\n",
       "Wind Speed Daily AVG       0\n",
       "Wind Direction AVG         0\n",
       "Solare Radiation AVG       0\n",
       "Route                    260\n",
       "Attempted                260\n",
       "Succeeded                260\n",
       "Success Percentage       260\n",
       "dtype: int64"
      ]
     },
     "execution_count": 16,
     "metadata": {},
     "output_type": "execute_result"
    }
   ],
   "source": [
    "merged_data.isnull().sum()"
   ]
  },
  {
   "cell_type": "code",
   "execution_count": 17,
   "id": "529b5b82",
   "metadata": {},
   "outputs": [
    {
     "data": {
      "text/plain": [
       "(2155, 11)"
      ]
     },
     "execution_count": 17,
     "metadata": {},
     "output_type": "execute_result"
    }
   ],
   "source": [
    "merged_data.shape"
   ]
  },
  {
   "cell_type": "code",
   "execution_count": 18,
   "id": "f5dd2e77",
   "metadata": {},
   "outputs": [],
   "source": [
    "joined_data = merged_data.dropna()"
   ]
  },
  {
   "cell_type": "code",
   "execution_count": 19,
   "id": "5eb79774",
   "metadata": {},
   "outputs": [
    {
     "data": {
      "text/plain": [
       "Date                     0\n",
       "Battery Voltage AVG      0\n",
       "Temperature AVG          0\n",
       "Relative Humidity AVG    0\n",
       "Wind Speed Daily AVG     0\n",
       "Wind Direction AVG       0\n",
       "Solare Radiation AVG     0\n",
       "Route                    0\n",
       "Attempted                0\n",
       "Succeeded                0\n",
       "Success Percentage       0\n",
       "dtype: int64"
      ]
     },
     "execution_count": 19,
     "metadata": {},
     "output_type": "execute_result"
    }
   ],
   "source": [
    "joined_data.isnull().sum()"
   ]
  },
  {
   "cell_type": "code",
   "execution_count": 20,
   "id": "83feddff",
   "metadata": {},
   "outputs": [
    {
     "data": {
      "text/plain": [
       "(1895, 11)"
      ]
     },
     "execution_count": 20,
     "metadata": {},
     "output_type": "execute_result"
    }
   ],
   "source": [
    "joined_data.shape"
   ]
  },
  {
   "cell_type": "code",
   "execution_count": 21,
   "id": "df963299",
   "metadata": {},
   "outputs": [
    {
     "data": {
      "text/html": [
       "<div>\n",
       "<style scoped>\n",
       "    .dataframe tbody tr th:only-of-type {\n",
       "        vertical-align: middle;\n",
       "    }\n",
       "\n",
       "    .dataframe tbody tr th {\n",
       "        vertical-align: top;\n",
       "    }\n",
       "\n",
       "    .dataframe thead th {\n",
       "        text-align: right;\n",
       "    }\n",
       "</style>\n",
       "<table border=\"1\" class=\"dataframe\">\n",
       "  <thead>\n",
       "    <tr style=\"text-align: right;\">\n",
       "      <th></th>\n",
       "      <th>Date</th>\n",
       "      <th>Battery Voltage AVG</th>\n",
       "      <th>Temperature AVG</th>\n",
       "      <th>Relative Humidity AVG</th>\n",
       "      <th>Wind Speed Daily AVG</th>\n",
       "      <th>Wind Direction AVG</th>\n",
       "      <th>Solare Radiation AVG</th>\n",
       "      <th>Route</th>\n",
       "      <th>Attempted</th>\n",
       "      <th>Succeeded</th>\n",
       "      <th>Success Percentage</th>\n",
       "    </tr>\n",
       "  </thead>\n",
       "  <tbody>\n",
       "    <tr>\n",
       "      <th>34</th>\n",
       "      <td>11/27/2015</td>\n",
       "      <td>13.643750</td>\n",
       "      <td>26.321667</td>\n",
       "      <td>19.715000</td>\n",
       "      <td>27.839583</td>\n",
       "      <td>68.004167</td>\n",
       "      <td>88.496250</td>\n",
       "      <td>Disappointment Cleaver</td>\n",
       "      <td>2.0</td>\n",
       "      <td>0.0</td>\n",
       "      <td>0.0</td>\n",
       "    </tr>\n",
       "    <tr>\n",
       "      <th>40</th>\n",
       "      <td>11/21/2015</td>\n",
       "      <td>13.749583</td>\n",
       "      <td>31.300000</td>\n",
       "      <td>21.690708</td>\n",
       "      <td>2.245833</td>\n",
       "      <td>117.549667</td>\n",
       "      <td>93.660417</td>\n",
       "      <td>Disappointment Cleaver</td>\n",
       "      <td>3.0</td>\n",
       "      <td>0.0</td>\n",
       "      <td>0.0</td>\n",
       "    </tr>\n",
       "    <tr>\n",
       "      <th>77</th>\n",
       "      <td>10/15/2015</td>\n",
       "      <td>13.461250</td>\n",
       "      <td>46.447917</td>\n",
       "      <td>27.211250</td>\n",
       "      <td>17.163625</td>\n",
       "      <td>259.121375</td>\n",
       "      <td>138.387000</td>\n",
       "      <td>Disappointment Cleaver</td>\n",
       "      <td>2.0</td>\n",
       "      <td>0.0</td>\n",
       "      <td>0.0</td>\n",
       "    </tr>\n",
       "    <tr>\n",
       "      <th>79</th>\n",
       "      <td>10/13/2015</td>\n",
       "      <td>13.532083</td>\n",
       "      <td>40.979583</td>\n",
       "      <td>28.335708</td>\n",
       "      <td>19.591167</td>\n",
       "      <td>279.779167</td>\n",
       "      <td>176.382667</td>\n",
       "      <td>Little Tahoma</td>\n",
       "      <td>8.0</td>\n",
       "      <td>0.0</td>\n",
       "      <td>0.0</td>\n",
       "    </tr>\n",
       "    <tr>\n",
       "      <th>83</th>\n",
       "      <td>10/9/2015</td>\n",
       "      <td>13.216250</td>\n",
       "      <td>38.260417</td>\n",
       "      <td>74.329167</td>\n",
       "      <td>65.138333</td>\n",
       "      <td>264.687500</td>\n",
       "      <td>27.791292</td>\n",
       "      <td>Disappointment Cleaver</td>\n",
       "      <td>2.0</td>\n",
       "      <td>0.0</td>\n",
       "      <td>0.0</td>\n",
       "    </tr>\n",
       "  </tbody>\n",
       "</table>\n",
       "</div>"
      ],
      "text/plain": [
       "          Date  Battery Voltage AVG  Temperature AVG  Relative Humidity AVG  \\\n",
       "34  11/27/2015            13.643750        26.321667              19.715000   \n",
       "40  11/21/2015            13.749583        31.300000              21.690708   \n",
       "77  10/15/2015            13.461250        46.447917              27.211250   \n",
       "79  10/13/2015            13.532083        40.979583              28.335708   \n",
       "83   10/9/2015            13.216250        38.260417              74.329167   \n",
       "\n",
       "    Wind Speed Daily AVG  Wind Direction AVG  Solare Radiation AVG  \\\n",
       "34             27.839583           68.004167             88.496250   \n",
       "40              2.245833          117.549667             93.660417   \n",
       "77             17.163625          259.121375            138.387000   \n",
       "79             19.591167          279.779167            176.382667   \n",
       "83             65.138333          264.687500             27.791292   \n",
       "\n",
       "                     Route  Attempted  Succeeded  Success Percentage  \n",
       "34  Disappointment Cleaver        2.0        0.0                 0.0  \n",
       "40  Disappointment Cleaver        3.0        0.0                 0.0  \n",
       "77  Disappointment Cleaver        2.0        0.0                 0.0  \n",
       "79           Little Tahoma        8.0        0.0                 0.0  \n",
       "83  Disappointment Cleaver        2.0        0.0                 0.0  "
      ]
     },
     "execution_count": 21,
     "metadata": {},
     "output_type": "execute_result"
    }
   ],
   "source": [
    "joined_data.head()"
   ]
  },
  {
   "cell_type": "code",
   "execution_count": 22,
   "id": "6cfb0a3e",
   "metadata": {},
   "outputs": [
    {
     "data": {
      "text/html": [
       "<div>\n",
       "<style scoped>\n",
       "    .dataframe tbody tr th:only-of-type {\n",
       "        vertical-align: middle;\n",
       "    }\n",
       "\n",
       "    .dataframe tbody tr th {\n",
       "        vertical-align: top;\n",
       "    }\n",
       "\n",
       "    .dataframe thead th {\n",
       "        text-align: right;\n",
       "    }\n",
       "</style>\n",
       "<table border=\"1\" class=\"dataframe\">\n",
       "  <thead>\n",
       "    <tr style=\"text-align: right;\">\n",
       "      <th></th>\n",
       "      <th>Date</th>\n",
       "      <th>Battery Voltage AVG</th>\n",
       "      <th>Temperature AVG</th>\n",
       "      <th>Relative Humidity AVG</th>\n",
       "      <th>Wind Speed Daily AVG</th>\n",
       "      <th>Wind Direction AVG</th>\n",
       "      <th>Solare Radiation AVG</th>\n",
       "      <th>Route</th>\n",
       "      <th>Attempted</th>\n",
       "      <th>Succeeded</th>\n",
       "      <th>Success Percentage</th>\n",
       "    </tr>\n",
       "  </thead>\n",
       "  <tbody>\n",
       "    <tr>\n",
       "      <th>216</th>\n",
       "      <td>8/26/2015</td>\n",
       "      <td>13.510000</td>\n",
       "      <td>41.950833</td>\n",
       "      <td>54.233750</td>\n",
       "      <td>35.899167</td>\n",
       "      <td>22.134583</td>\n",
       "      <td>234.041625</td>\n",
       "      <td>Disappointment Cleaver</td>\n",
       "      <td>3.0</td>\n",
       "      <td>4.0</td>\n",
       "      <td>1.333333</td>\n",
       "    </tr>\n",
       "    <tr>\n",
       "      <th>274</th>\n",
       "      <td>8/21/2015</td>\n",
       "      <td>13.487500</td>\n",
       "      <td>43.208750</td>\n",
       "      <td>14.296333</td>\n",
       "      <td>19.141750</td>\n",
       "      <td>19.629583</td>\n",
       "      <td>293.749500</td>\n",
       "      <td>Disappointment Cleaver</td>\n",
       "      <td>1.0</td>\n",
       "      <td>2.0</td>\n",
       "      <td>2.000000</td>\n",
       "    </tr>\n",
       "    <tr>\n",
       "      <th>590</th>\n",
       "      <td>7/27/2015</td>\n",
       "      <td>13.526667</td>\n",
       "      <td>33.303333</td>\n",
       "      <td>52.500000</td>\n",
       "      <td>7.444625</td>\n",
       "      <td>191.560875</td>\n",
       "      <td>278.793583</td>\n",
       "      <td>Emmons-Winthrop</td>\n",
       "      <td>3.0</td>\n",
       "      <td>4.0</td>\n",
       "      <td>1.333333</td>\n",
       "    </tr>\n",
       "    <tr>\n",
       "      <th>672</th>\n",
       "      <td>7/20/2015</td>\n",
       "      <td>13.427083</td>\n",
       "      <td>49.154583</td>\n",
       "      <td>32.245250</td>\n",
       "      <td>8.580917</td>\n",
       "      <td>189.999167</td>\n",
       "      <td>334.196750</td>\n",
       "      <td>Disappointment Cleaver</td>\n",
       "      <td>5.0</td>\n",
       "      <td>71.0</td>\n",
       "      <td>14.200000</td>\n",
       "    </tr>\n",
       "    <tr>\n",
       "      <th>1239</th>\n",
       "      <td>6/23/2015</td>\n",
       "      <td>13.542500</td>\n",
       "      <td>38.033750</td>\n",
       "      <td>43.064583</td>\n",
       "      <td>5.631583</td>\n",
       "      <td>148.757292</td>\n",
       "      <td>351.312500</td>\n",
       "      <td>Disappointment Cleaver</td>\n",
       "      <td>2.0</td>\n",
       "      <td>5.0</td>\n",
       "      <td>2.500000</td>\n",
       "    </tr>\n",
       "    <tr>\n",
       "      <th>1482</th>\n",
       "      <td>6/12/2015</td>\n",
       "      <td>13.545833</td>\n",
       "      <td>39.889167</td>\n",
       "      <td>12.741125</td>\n",
       "      <td>14.657875</td>\n",
       "      <td>33.321667</td>\n",
       "      <td>368.056083</td>\n",
       "      <td>Disappointment Cleaver</td>\n",
       "      <td>10.0</td>\n",
       "      <td>11.0</td>\n",
       "      <td>1.100000</td>\n",
       "    </tr>\n",
       "  </tbody>\n",
       "</table>\n",
       "</div>"
      ],
      "text/plain": [
       "           Date  Battery Voltage AVG  Temperature AVG  Relative Humidity AVG  \\\n",
       "216   8/26/2015            13.510000        41.950833              54.233750   \n",
       "274   8/21/2015            13.487500        43.208750              14.296333   \n",
       "590   7/27/2015            13.526667        33.303333              52.500000   \n",
       "672   7/20/2015            13.427083        49.154583              32.245250   \n",
       "1239  6/23/2015            13.542500        38.033750              43.064583   \n",
       "1482  6/12/2015            13.545833        39.889167              12.741125   \n",
       "\n",
       "      Wind Speed Daily AVG  Wind Direction AVG  Solare Radiation AVG  \\\n",
       "216              35.899167           22.134583            234.041625   \n",
       "274              19.141750           19.629583            293.749500   \n",
       "590               7.444625          191.560875            278.793583   \n",
       "672               8.580917          189.999167            334.196750   \n",
       "1239              5.631583          148.757292            351.312500   \n",
       "1482             14.657875           33.321667            368.056083   \n",
       "\n",
       "                       Route  Attempted  Succeeded  Success Percentage  \n",
       "216   Disappointment Cleaver        3.0        4.0            1.333333  \n",
       "274   Disappointment Cleaver        1.0        2.0            2.000000  \n",
       "590          Emmons-Winthrop        3.0        4.0            1.333333  \n",
       "672   Disappointment Cleaver        5.0       71.0           14.200000  \n",
       "1239  Disappointment Cleaver        2.0        5.0            2.500000  \n",
       "1482  Disappointment Cleaver       10.0       11.0            1.100000  "
      ]
     },
     "execution_count": 22,
     "metadata": {},
     "output_type": "execute_result"
    }
   ],
   "source": [
    "joined_data[joined_data[\"Success Percentage\"] > 1]"
   ]
  },
  {
   "cell_type": "code",
   "execution_count": 23,
   "id": "89cd6373",
   "metadata": {},
   "outputs": [],
   "source": [
    "joined_data = joined_data[joined_data[\"Success Percentage\"] <= 1]"
   ]
  },
  {
   "cell_type": "code",
   "execution_count": 24,
   "id": "265170f9",
   "metadata": {},
   "outputs": [
    {
     "data": {
      "text/plain": [
       "(1889, 11)"
      ]
     },
     "execution_count": 24,
     "metadata": {},
     "output_type": "execute_result"
    }
   ],
   "source": [
    "joined_data.shape"
   ]
  },
  {
   "cell_type": "code",
   "execution_count": 25,
   "id": "4809067b",
   "metadata": {},
   "outputs": [
    {
     "data": {
      "text/html": [
       "<div>\n",
       "<style scoped>\n",
       "    .dataframe tbody tr th:only-of-type {\n",
       "        vertical-align: middle;\n",
       "    }\n",
       "\n",
       "    .dataframe tbody tr th {\n",
       "        vertical-align: top;\n",
       "    }\n",
       "\n",
       "    .dataframe thead th {\n",
       "        text-align: right;\n",
       "    }\n",
       "</style>\n",
       "<table border=\"1\" class=\"dataframe\">\n",
       "  <thead>\n",
       "    <tr style=\"text-align: right;\">\n",
       "      <th></th>\n",
       "      <th>Date</th>\n",
       "      <th>Battery Voltage AVG</th>\n",
       "      <th>Temperature AVG</th>\n",
       "      <th>Relative Humidity AVG</th>\n",
       "      <th>Wind Speed Daily AVG</th>\n",
       "      <th>Wind Direction AVG</th>\n",
       "      <th>Solare Radiation AVG</th>\n",
       "      <th>Route</th>\n",
       "      <th>Attempted</th>\n",
       "      <th>Succeeded</th>\n",
       "      <th>Success Percentage</th>\n",
       "    </tr>\n",
       "  </thead>\n",
       "  <tbody>\n",
       "    <tr>\n",
       "      <th>34</th>\n",
       "      <td>11/27/2015</td>\n",
       "      <td>13.643750</td>\n",
       "      <td>26.321667</td>\n",
       "      <td>19.715000</td>\n",
       "      <td>27.839583</td>\n",
       "      <td>68.004167</td>\n",
       "      <td>88.496250</td>\n",
       "      <td>Disappointment Cleaver</td>\n",
       "      <td>2.0</td>\n",
       "      <td>0.0</td>\n",
       "      <td>0.0</td>\n",
       "    </tr>\n",
       "    <tr>\n",
       "      <th>40</th>\n",
       "      <td>11/21/2015</td>\n",
       "      <td>13.749583</td>\n",
       "      <td>31.300000</td>\n",
       "      <td>21.690708</td>\n",
       "      <td>2.245833</td>\n",
       "      <td>117.549667</td>\n",
       "      <td>93.660417</td>\n",
       "      <td>Disappointment Cleaver</td>\n",
       "      <td>3.0</td>\n",
       "      <td>0.0</td>\n",
       "      <td>0.0</td>\n",
       "    </tr>\n",
       "    <tr>\n",
       "      <th>77</th>\n",
       "      <td>10/15/2015</td>\n",
       "      <td>13.461250</td>\n",
       "      <td>46.447917</td>\n",
       "      <td>27.211250</td>\n",
       "      <td>17.163625</td>\n",
       "      <td>259.121375</td>\n",
       "      <td>138.387000</td>\n",
       "      <td>Disappointment Cleaver</td>\n",
       "      <td>2.0</td>\n",
       "      <td>0.0</td>\n",
       "      <td>0.0</td>\n",
       "    </tr>\n",
       "    <tr>\n",
       "      <th>79</th>\n",
       "      <td>10/13/2015</td>\n",
       "      <td>13.532083</td>\n",
       "      <td>40.979583</td>\n",
       "      <td>28.335708</td>\n",
       "      <td>19.591167</td>\n",
       "      <td>279.779167</td>\n",
       "      <td>176.382667</td>\n",
       "      <td>Little Tahoma</td>\n",
       "      <td>8.0</td>\n",
       "      <td>0.0</td>\n",
       "      <td>0.0</td>\n",
       "    </tr>\n",
       "    <tr>\n",
       "      <th>83</th>\n",
       "      <td>10/9/2015</td>\n",
       "      <td>13.216250</td>\n",
       "      <td>38.260417</td>\n",
       "      <td>74.329167</td>\n",
       "      <td>65.138333</td>\n",
       "      <td>264.687500</td>\n",
       "      <td>27.791292</td>\n",
       "      <td>Disappointment Cleaver</td>\n",
       "      <td>2.0</td>\n",
       "      <td>0.0</td>\n",
       "      <td>0.0</td>\n",
       "    </tr>\n",
       "  </tbody>\n",
       "</table>\n",
       "</div>"
      ],
      "text/plain": [
       "          Date  Battery Voltage AVG  Temperature AVG  Relative Humidity AVG  \\\n",
       "34  11/27/2015            13.643750        26.321667              19.715000   \n",
       "40  11/21/2015            13.749583        31.300000              21.690708   \n",
       "77  10/15/2015            13.461250        46.447917              27.211250   \n",
       "79  10/13/2015            13.532083        40.979583              28.335708   \n",
       "83   10/9/2015            13.216250        38.260417              74.329167   \n",
       "\n",
       "    Wind Speed Daily AVG  Wind Direction AVG  Solare Radiation AVG  \\\n",
       "34             27.839583           68.004167             88.496250   \n",
       "40              2.245833          117.549667             93.660417   \n",
       "77             17.163625          259.121375            138.387000   \n",
       "79             19.591167          279.779167            176.382667   \n",
       "83             65.138333          264.687500             27.791292   \n",
       "\n",
       "                     Route  Attempted  Succeeded  Success Percentage  \n",
       "34  Disappointment Cleaver        2.0        0.0                 0.0  \n",
       "40  Disappointment Cleaver        3.0        0.0                 0.0  \n",
       "77  Disappointment Cleaver        2.0        0.0                 0.0  \n",
       "79           Little Tahoma        8.0        0.0                 0.0  \n",
       "83  Disappointment Cleaver        2.0        0.0                 0.0  "
      ]
     },
     "execution_count": 25,
     "metadata": {},
     "output_type": "execute_result"
    }
   ],
   "source": [
    "joined_data.head()"
   ]
  },
  {
   "cell_type": "code",
   "execution_count": 26,
   "id": "bda3892f",
   "metadata": {},
   "outputs": [
    {
     "data": {
      "text/html": [
       "<div>\n",
       "<style scoped>\n",
       "    .dataframe tbody tr th:only-of-type {\n",
       "        vertical-align: middle;\n",
       "    }\n",
       "\n",
       "    .dataframe tbody tr th {\n",
       "        vertical-align: top;\n",
       "    }\n",
       "\n",
       "    .dataframe thead th {\n",
       "        text-align: right;\n",
       "    }\n",
       "</style>\n",
       "<table border=\"1\" class=\"dataframe\">\n",
       "  <thead>\n",
       "    <tr style=\"text-align: right;\">\n",
       "      <th></th>\n",
       "      <th>Battery Voltage AVG</th>\n",
       "      <th>Temperature AVG</th>\n",
       "      <th>Relative Humidity AVG</th>\n",
       "      <th>Wind Speed Daily AVG</th>\n",
       "      <th>Wind Direction AVG</th>\n",
       "      <th>Solare Radiation AVG</th>\n",
       "      <th>Attempted</th>\n",
       "      <th>Succeeded</th>\n",
       "      <th>Success Percentage</th>\n",
       "    </tr>\n",
       "  </thead>\n",
       "  <tbody>\n",
       "    <tr>\n",
       "      <th>Battery Voltage AVG</th>\n",
       "      <td>1.000000</td>\n",
       "      <td>-0.611545</td>\n",
       "      <td>0.343260</td>\n",
       "      <td>0.173961</td>\n",
       "      <td>0.133401</td>\n",
       "      <td>-0.370036</td>\n",
       "      <td>-0.063125</td>\n",
       "      <td>-0.044907</td>\n",
       "      <td>-0.046623</td>\n",
       "    </tr>\n",
       "    <tr>\n",
       "      <th>Temperature AVG</th>\n",
       "      <td>-0.611545</td>\n",
       "      <td>1.000000</td>\n",
       "      <td>-0.601786</td>\n",
       "      <td>-0.187253</td>\n",
       "      <td>-0.099509</td>\n",
       "      <td>0.545368</td>\n",
       "      <td>-0.008369</td>\n",
       "      <td>0.089720</td>\n",
       "      <td>0.128756</td>\n",
       "    </tr>\n",
       "    <tr>\n",
       "      <th>Relative Humidity AVG</th>\n",
       "      <td>0.343260</td>\n",
       "      <td>-0.601786</td>\n",
       "      <td>1.000000</td>\n",
       "      <td>0.249576</td>\n",
       "      <td>0.231393</td>\n",
       "      <td>-0.416734</td>\n",
       "      <td>0.106048</td>\n",
       "      <td>-0.011671</td>\n",
       "      <td>-0.072170</td>\n",
       "    </tr>\n",
       "    <tr>\n",
       "      <th>Wind Speed Daily AVG</th>\n",
       "      <td>0.173961</td>\n",
       "      <td>-0.187253</td>\n",
       "      <td>0.249576</td>\n",
       "      <td>1.000000</td>\n",
       "      <td>0.186644</td>\n",
       "      <td>-0.302197</td>\n",
       "      <td>0.091422</td>\n",
       "      <td>-0.066967</td>\n",
       "      <td>-0.126779</td>\n",
       "    </tr>\n",
       "    <tr>\n",
       "      <th>Wind Direction AVG</th>\n",
       "      <td>0.133401</td>\n",
       "      <td>-0.099509</td>\n",
       "      <td>0.231393</td>\n",
       "      <td>0.186644</td>\n",
       "      <td>1.000000</td>\n",
       "      <td>-0.182807</td>\n",
       "      <td>-0.024701</td>\n",
       "      <td>-0.065347</td>\n",
       "      <td>-0.084226</td>\n",
       "    </tr>\n",
       "    <tr>\n",
       "      <th>Solare Radiation AVG</th>\n",
       "      <td>-0.370036</td>\n",
       "      <td>0.545368</td>\n",
       "      <td>-0.416734</td>\n",
       "      <td>-0.302197</td>\n",
       "      <td>-0.182807</td>\n",
       "      <td>1.000000</td>\n",
       "      <td>-0.014626</td>\n",
       "      <td>0.173928</td>\n",
       "      <td>0.264349</td>\n",
       "    </tr>\n",
       "    <tr>\n",
       "      <th>Attempted</th>\n",
       "      <td>-0.063125</td>\n",
       "      <td>-0.008369</td>\n",
       "      <td>0.106048</td>\n",
       "      <td>0.091422</td>\n",
       "      <td>-0.024701</td>\n",
       "      <td>-0.014626</td>\n",
       "      <td>1.000000</td>\n",
       "      <td>0.611405</td>\n",
       "      <td>0.087906</td>\n",
       "    </tr>\n",
       "    <tr>\n",
       "      <th>Succeeded</th>\n",
       "      <td>-0.044907</td>\n",
       "      <td>0.089720</td>\n",
       "      <td>-0.011671</td>\n",
       "      <td>-0.066967</td>\n",
       "      <td>-0.065347</td>\n",
       "      <td>0.173928</td>\n",
       "      <td>0.611405</td>\n",
       "      <td>1.000000</td>\n",
       "      <td>0.682005</td>\n",
       "    </tr>\n",
       "    <tr>\n",
       "      <th>Success Percentage</th>\n",
       "      <td>-0.046623</td>\n",
       "      <td>0.128756</td>\n",
       "      <td>-0.072170</td>\n",
       "      <td>-0.126779</td>\n",
       "      <td>-0.084226</td>\n",
       "      <td>0.264349</td>\n",
       "      <td>0.087906</td>\n",
       "      <td>0.682005</td>\n",
       "      <td>1.000000</td>\n",
       "    </tr>\n",
       "  </tbody>\n",
       "</table>\n",
       "</div>"
      ],
      "text/plain": [
       "                       Battery Voltage AVG  Temperature AVG  \\\n",
       "Battery Voltage AVG               1.000000        -0.611545   \n",
       "Temperature AVG                  -0.611545         1.000000   \n",
       "Relative Humidity AVG             0.343260        -0.601786   \n",
       "Wind Speed Daily AVG              0.173961        -0.187253   \n",
       "Wind Direction AVG                0.133401        -0.099509   \n",
       "Solare Radiation AVG             -0.370036         0.545368   \n",
       "Attempted                        -0.063125        -0.008369   \n",
       "Succeeded                        -0.044907         0.089720   \n",
       "Success Percentage               -0.046623         0.128756   \n",
       "\n",
       "                       Relative Humidity AVG  Wind Speed Daily AVG  \\\n",
       "Battery Voltage AVG                 0.343260              0.173961   \n",
       "Temperature AVG                    -0.601786             -0.187253   \n",
       "Relative Humidity AVG               1.000000              0.249576   \n",
       "Wind Speed Daily AVG                0.249576              1.000000   \n",
       "Wind Direction AVG                  0.231393              0.186644   \n",
       "Solare Radiation AVG               -0.416734             -0.302197   \n",
       "Attempted                           0.106048              0.091422   \n",
       "Succeeded                          -0.011671             -0.066967   \n",
       "Success Percentage                 -0.072170             -0.126779   \n",
       "\n",
       "                       Wind Direction AVG  Solare Radiation AVG  Attempted  \\\n",
       "Battery Voltage AVG              0.133401             -0.370036  -0.063125   \n",
       "Temperature AVG                 -0.099509              0.545368  -0.008369   \n",
       "Relative Humidity AVG            0.231393             -0.416734   0.106048   \n",
       "Wind Speed Daily AVG             0.186644             -0.302197   0.091422   \n",
       "Wind Direction AVG               1.000000             -0.182807  -0.024701   \n",
       "Solare Radiation AVG            -0.182807              1.000000  -0.014626   \n",
       "Attempted                       -0.024701             -0.014626   1.000000   \n",
       "Succeeded                       -0.065347              0.173928   0.611405   \n",
       "Success Percentage              -0.084226              0.264349   0.087906   \n",
       "\n",
       "                       Succeeded  Success Percentage  \n",
       "Battery Voltage AVG    -0.044907           -0.046623  \n",
       "Temperature AVG         0.089720            0.128756  \n",
       "Relative Humidity AVG  -0.011671           -0.072170  \n",
       "Wind Speed Daily AVG   -0.066967           -0.126779  \n",
       "Wind Direction AVG     -0.065347           -0.084226  \n",
       "Solare Radiation AVG    0.173928            0.264349  \n",
       "Attempted               0.611405            0.087906  \n",
       "Succeeded               1.000000            0.682005  \n",
       "Success Percentage      0.682005            1.000000  "
      ]
     },
     "execution_count": 26,
     "metadata": {},
     "output_type": "execute_result"
    }
   ],
   "source": [
    "joined_data.corr()"
   ]
  },
  {
   "cell_type": "code",
   "execution_count": 27,
   "id": "fe4a5d35",
   "metadata": {},
   "outputs": [],
   "source": [
    "joined_data = joined_data.drop('Succeeded', 1)"
   ]
  },
  {
   "cell_type": "code",
   "execution_count": 28,
   "id": "3204c3a3",
   "metadata": {},
   "outputs": [],
   "source": [
    "joined_data = joined_data.drop('Date', 1)"
   ]
  },
  {
   "cell_type": "code",
   "execution_count": 29,
   "id": "6888ec06",
   "metadata": {},
   "outputs": [
    {
     "data": {
      "text/html": [
       "<div>\n",
       "<style scoped>\n",
       "    .dataframe tbody tr th:only-of-type {\n",
       "        vertical-align: middle;\n",
       "    }\n",
       "\n",
       "    .dataframe tbody tr th {\n",
       "        vertical-align: top;\n",
       "    }\n",
       "\n",
       "    .dataframe thead th {\n",
       "        text-align: right;\n",
       "    }\n",
       "</style>\n",
       "<table border=\"1\" class=\"dataframe\">\n",
       "  <thead>\n",
       "    <tr style=\"text-align: right;\">\n",
       "      <th></th>\n",
       "      <th>Battery Voltage AVG</th>\n",
       "      <th>Temperature AVG</th>\n",
       "      <th>Relative Humidity AVG</th>\n",
       "      <th>Wind Speed Daily AVG</th>\n",
       "      <th>Wind Direction AVG</th>\n",
       "      <th>Solare Radiation AVG</th>\n",
       "      <th>Route</th>\n",
       "      <th>Attempted</th>\n",
       "      <th>Success Percentage</th>\n",
       "    </tr>\n",
       "  </thead>\n",
       "  <tbody>\n",
       "    <tr>\n",
       "      <th>34</th>\n",
       "      <td>13.643750</td>\n",
       "      <td>26.321667</td>\n",
       "      <td>19.715000</td>\n",
       "      <td>27.839583</td>\n",
       "      <td>68.004167</td>\n",
       "      <td>88.496250</td>\n",
       "      <td>Disappointment Cleaver</td>\n",
       "      <td>2.0</td>\n",
       "      <td>0.0</td>\n",
       "    </tr>\n",
       "    <tr>\n",
       "      <th>40</th>\n",
       "      <td>13.749583</td>\n",
       "      <td>31.300000</td>\n",
       "      <td>21.690708</td>\n",
       "      <td>2.245833</td>\n",
       "      <td>117.549667</td>\n",
       "      <td>93.660417</td>\n",
       "      <td>Disappointment Cleaver</td>\n",
       "      <td>3.0</td>\n",
       "      <td>0.0</td>\n",
       "    </tr>\n",
       "    <tr>\n",
       "      <th>77</th>\n",
       "      <td>13.461250</td>\n",
       "      <td>46.447917</td>\n",
       "      <td>27.211250</td>\n",
       "      <td>17.163625</td>\n",
       "      <td>259.121375</td>\n",
       "      <td>138.387000</td>\n",
       "      <td>Disappointment Cleaver</td>\n",
       "      <td>2.0</td>\n",
       "      <td>0.0</td>\n",
       "    </tr>\n",
       "    <tr>\n",
       "      <th>79</th>\n",
       "      <td>13.532083</td>\n",
       "      <td>40.979583</td>\n",
       "      <td>28.335708</td>\n",
       "      <td>19.591167</td>\n",
       "      <td>279.779167</td>\n",
       "      <td>176.382667</td>\n",
       "      <td>Little Tahoma</td>\n",
       "      <td>8.0</td>\n",
       "      <td>0.0</td>\n",
       "    </tr>\n",
       "    <tr>\n",
       "      <th>83</th>\n",
       "      <td>13.216250</td>\n",
       "      <td>38.260417</td>\n",
       "      <td>74.329167</td>\n",
       "      <td>65.138333</td>\n",
       "      <td>264.687500</td>\n",
       "      <td>27.791292</td>\n",
       "      <td>Disappointment Cleaver</td>\n",
       "      <td>2.0</td>\n",
       "      <td>0.0</td>\n",
       "    </tr>\n",
       "  </tbody>\n",
       "</table>\n",
       "</div>"
      ],
      "text/plain": [
       "    Battery Voltage AVG  Temperature AVG  Relative Humidity AVG  \\\n",
       "34            13.643750        26.321667              19.715000   \n",
       "40            13.749583        31.300000              21.690708   \n",
       "77            13.461250        46.447917              27.211250   \n",
       "79            13.532083        40.979583              28.335708   \n",
       "83            13.216250        38.260417              74.329167   \n",
       "\n",
       "    Wind Speed Daily AVG  Wind Direction AVG  Solare Radiation AVG  \\\n",
       "34             27.839583           68.004167             88.496250   \n",
       "40              2.245833          117.549667             93.660417   \n",
       "77             17.163625          259.121375            138.387000   \n",
       "79             19.591167          279.779167            176.382667   \n",
       "83             65.138333          264.687500             27.791292   \n",
       "\n",
       "                     Route  Attempted  Success Percentage  \n",
       "34  Disappointment Cleaver        2.0                 0.0  \n",
       "40  Disappointment Cleaver        3.0                 0.0  \n",
       "77  Disappointment Cleaver        2.0                 0.0  \n",
       "79           Little Tahoma        8.0                 0.0  \n",
       "83  Disappointment Cleaver        2.0                 0.0  "
      ]
     },
     "execution_count": 29,
     "metadata": {},
     "output_type": "execute_result"
    }
   ],
   "source": [
    "joined_data.head()"
   ]
  },
  {
   "cell_type": "code",
   "execution_count": 30,
   "id": "500472ea",
   "metadata": {},
   "outputs": [],
   "source": [
    "import seaborn as sns\n",
    "import matplotlib.pyplot as plt"
   ]
  },
  {
   "cell_type": "code",
   "execution_count": 31,
   "id": "6b207874",
   "metadata": {},
   "outputs": [],
   "source": [
    "data = joined_data.drop('Route', axis = 1)"
   ]
  },
  {
   "cell_type": "code",
   "execution_count": 32,
   "id": "4a62a06a",
   "metadata": {},
   "outputs": [
    {
     "data": {
      "text/html": [
       "<div>\n",
       "<style scoped>\n",
       "    .dataframe tbody tr th:only-of-type {\n",
       "        vertical-align: middle;\n",
       "    }\n",
       "\n",
       "    .dataframe tbody tr th {\n",
       "        vertical-align: top;\n",
       "    }\n",
       "\n",
       "    .dataframe thead th {\n",
       "        text-align: right;\n",
       "    }\n",
       "</style>\n",
       "<table border=\"1\" class=\"dataframe\">\n",
       "  <thead>\n",
       "    <tr style=\"text-align: right;\">\n",
       "      <th></th>\n",
       "      <th>Battery Voltage AVG</th>\n",
       "      <th>Temperature AVG</th>\n",
       "      <th>Relative Humidity AVG</th>\n",
       "      <th>Wind Speed Daily AVG</th>\n",
       "      <th>Wind Direction AVG</th>\n",
       "      <th>Solare Radiation AVG</th>\n",
       "      <th>Attempted</th>\n",
       "      <th>Success Percentage</th>\n",
       "    </tr>\n",
       "  </thead>\n",
       "  <tbody>\n",
       "    <tr>\n",
       "      <th>Battery Voltage AVG</th>\n",
       "      <td>1.000000</td>\n",
       "      <td>-0.611545</td>\n",
       "      <td>0.343260</td>\n",
       "      <td>0.173961</td>\n",
       "      <td>0.133401</td>\n",
       "      <td>-0.370036</td>\n",
       "      <td>-0.063125</td>\n",
       "      <td>-0.046623</td>\n",
       "    </tr>\n",
       "    <tr>\n",
       "      <th>Temperature AVG</th>\n",
       "      <td>-0.611545</td>\n",
       "      <td>1.000000</td>\n",
       "      <td>-0.601786</td>\n",
       "      <td>-0.187253</td>\n",
       "      <td>-0.099509</td>\n",
       "      <td>0.545368</td>\n",
       "      <td>-0.008369</td>\n",
       "      <td>0.128756</td>\n",
       "    </tr>\n",
       "    <tr>\n",
       "      <th>Relative Humidity AVG</th>\n",
       "      <td>0.343260</td>\n",
       "      <td>-0.601786</td>\n",
       "      <td>1.000000</td>\n",
       "      <td>0.249576</td>\n",
       "      <td>0.231393</td>\n",
       "      <td>-0.416734</td>\n",
       "      <td>0.106048</td>\n",
       "      <td>-0.072170</td>\n",
       "    </tr>\n",
       "    <tr>\n",
       "      <th>Wind Speed Daily AVG</th>\n",
       "      <td>0.173961</td>\n",
       "      <td>-0.187253</td>\n",
       "      <td>0.249576</td>\n",
       "      <td>1.000000</td>\n",
       "      <td>0.186644</td>\n",
       "      <td>-0.302197</td>\n",
       "      <td>0.091422</td>\n",
       "      <td>-0.126779</td>\n",
       "    </tr>\n",
       "    <tr>\n",
       "      <th>Wind Direction AVG</th>\n",
       "      <td>0.133401</td>\n",
       "      <td>-0.099509</td>\n",
       "      <td>0.231393</td>\n",
       "      <td>0.186644</td>\n",
       "      <td>1.000000</td>\n",
       "      <td>-0.182807</td>\n",
       "      <td>-0.024701</td>\n",
       "      <td>-0.084226</td>\n",
       "    </tr>\n",
       "    <tr>\n",
       "      <th>Solare Radiation AVG</th>\n",
       "      <td>-0.370036</td>\n",
       "      <td>0.545368</td>\n",
       "      <td>-0.416734</td>\n",
       "      <td>-0.302197</td>\n",
       "      <td>-0.182807</td>\n",
       "      <td>1.000000</td>\n",
       "      <td>-0.014626</td>\n",
       "      <td>0.264349</td>\n",
       "    </tr>\n",
       "    <tr>\n",
       "      <th>Attempted</th>\n",
       "      <td>-0.063125</td>\n",
       "      <td>-0.008369</td>\n",
       "      <td>0.106048</td>\n",
       "      <td>0.091422</td>\n",
       "      <td>-0.024701</td>\n",
       "      <td>-0.014626</td>\n",
       "      <td>1.000000</td>\n",
       "      <td>0.087906</td>\n",
       "    </tr>\n",
       "    <tr>\n",
       "      <th>Success Percentage</th>\n",
       "      <td>-0.046623</td>\n",
       "      <td>0.128756</td>\n",
       "      <td>-0.072170</td>\n",
       "      <td>-0.126779</td>\n",
       "      <td>-0.084226</td>\n",
       "      <td>0.264349</td>\n",
       "      <td>0.087906</td>\n",
       "      <td>1.000000</td>\n",
       "    </tr>\n",
       "  </tbody>\n",
       "</table>\n",
       "</div>"
      ],
      "text/plain": [
       "                       Battery Voltage AVG  Temperature AVG  \\\n",
       "Battery Voltage AVG               1.000000        -0.611545   \n",
       "Temperature AVG                  -0.611545         1.000000   \n",
       "Relative Humidity AVG             0.343260        -0.601786   \n",
       "Wind Speed Daily AVG              0.173961        -0.187253   \n",
       "Wind Direction AVG                0.133401        -0.099509   \n",
       "Solare Radiation AVG             -0.370036         0.545368   \n",
       "Attempted                        -0.063125        -0.008369   \n",
       "Success Percentage               -0.046623         0.128756   \n",
       "\n",
       "                       Relative Humidity AVG  Wind Speed Daily AVG  \\\n",
       "Battery Voltage AVG                 0.343260              0.173961   \n",
       "Temperature AVG                    -0.601786             -0.187253   \n",
       "Relative Humidity AVG               1.000000              0.249576   \n",
       "Wind Speed Daily AVG                0.249576              1.000000   \n",
       "Wind Direction AVG                  0.231393              0.186644   \n",
       "Solare Radiation AVG               -0.416734             -0.302197   \n",
       "Attempted                           0.106048              0.091422   \n",
       "Success Percentage                 -0.072170             -0.126779   \n",
       "\n",
       "                       Wind Direction AVG  Solare Radiation AVG  Attempted  \\\n",
       "Battery Voltage AVG              0.133401             -0.370036  -0.063125   \n",
       "Temperature AVG                 -0.099509              0.545368  -0.008369   \n",
       "Relative Humidity AVG            0.231393             -0.416734   0.106048   \n",
       "Wind Speed Daily AVG             0.186644             -0.302197   0.091422   \n",
       "Wind Direction AVG               1.000000             -0.182807  -0.024701   \n",
       "Solare Radiation AVG            -0.182807              1.000000  -0.014626   \n",
       "Attempted                       -0.024701             -0.014626   1.000000   \n",
       "Success Percentage              -0.084226              0.264349   0.087906   \n",
       "\n",
       "                       Success Percentage  \n",
       "Battery Voltage AVG             -0.046623  \n",
       "Temperature AVG                  0.128756  \n",
       "Relative Humidity AVG           -0.072170  \n",
       "Wind Speed Daily AVG            -0.126779  \n",
       "Wind Direction AVG              -0.084226  \n",
       "Solare Radiation AVG             0.264349  \n",
       "Attempted                        0.087906  \n",
       "Success Percentage               1.000000  "
      ]
     },
     "execution_count": 32,
     "metadata": {},
     "output_type": "execute_result"
    }
   ],
   "source": [
    "data.corr()"
   ]
  },
  {
   "cell_type": "code",
   "execution_count": 33,
   "id": "20701f3e",
   "metadata": {},
   "outputs": [
    {
     "data": {
      "text/plain": [
       "<AxesSubplot:>"
      ]
     },
     "execution_count": 33,
     "metadata": {},
     "output_type": "execute_result"
    },
    {
     "data": {
      "image/png": "[encoded data removed]",
      "text/plain": [
       "<Figure size 432x288 with 2 Axes>"
      ]
     },
     "metadata": {
      "needs_background": "light"
     },
     "output_type": "display_data"
    }
   ],
   "source": [
    "sns.heatmap(data.corr())\n"
   ]
  },
  {
   "cell_type": "code",
   "execution_count": 34,
   "id": "8c936c56",
   "metadata": {},
   "outputs": [
    {
     "data": {
      "text/html": [
       "<div>\n",
       "<style scoped>\n",
       "    .dataframe tbody tr th:only-of-type {\n",
       "        vertical-align: middle;\n",
       "    }\n",
       "\n",
       "    .dataframe tbody tr th {\n",
       "        vertical-align: top;\n",
       "    }\n",
       "\n",
       "    .dataframe thead th {\n",
       "        text-align: right;\n",
       "    }\n",
       "</style>\n",
       "<table border=\"1\" class=\"dataframe\">\n",
       "  <thead>\n",
       "    <tr style=\"text-align: right;\">\n",
       "      <th></th>\n",
       "      <th>Battery Voltage AVG</th>\n",
       "      <th>Temperature AVG</th>\n",
       "      <th>Relative Humidity AVG</th>\n",
       "      <th>Wind Speed Daily AVG</th>\n",
       "      <th>Wind Direction AVG</th>\n",
       "      <th>Solare Radiation AVG</th>\n",
       "      <th>Attempted</th>\n",
       "      <th>Success Percentage</th>\n",
       "      <th>Route_Curtis RIngraham Directge</th>\n",
       "      <th>Route_Disappointment Cleaver</th>\n",
       "      <th>...</th>\n",
       "      <th>Route_Mowich Face</th>\n",
       "      <th>Route_Nisqually Glacier</th>\n",
       "      <th>Route_Ptarmigan RIngraham Directge</th>\n",
       "      <th>Route_Success Cleaver</th>\n",
       "      <th>Route_Sunset RIngraham Directge</th>\n",
       "      <th>Route_Tahoma Cleaver</th>\n",
       "      <th>Route_Tahoma Glacier</th>\n",
       "      <th>Route_Unknown</th>\n",
       "      <th>Route_Wilson Headwall</th>\n",
       "      <th>Route_glacier only - no summit attempt</th>\n",
       "    </tr>\n",
       "  </thead>\n",
       "  <tbody>\n",
       "    <tr>\n",
       "      <th>34</th>\n",
       "      <td>13.643750</td>\n",
       "      <td>26.321667</td>\n",
       "      <td>19.715000</td>\n",
       "      <td>27.839583</td>\n",
       "      <td>68.004167</td>\n",
       "      <td>88.496250</td>\n",
       "      <td>2.0</td>\n",
       "      <td>0.0</td>\n",
       "      <td>0</td>\n",
       "      <td>1</td>\n",
       "      <td>...</td>\n",
       "      <td>0</td>\n",
       "      <td>0</td>\n",
       "      <td>0</td>\n",
       "      <td>0</td>\n",
       "      <td>0</td>\n",
       "      <td>0</td>\n",
       "      <td>0</td>\n",
       "      <td>0</td>\n",
       "      <td>0</td>\n",
       "      <td>0</td>\n",
       "    </tr>\n",
       "    <tr>\n",
       "      <th>40</th>\n",
       "      <td>13.749583</td>\n",
       "      <td>31.300000</td>\n",
       "      <td>21.690708</td>\n",
       "      <td>2.245833</td>\n",
       "      <td>117.549667</td>\n",
       "      <td>93.660417</td>\n",
       "      <td>3.0</td>\n",
       "      <td>0.0</td>\n",
       "      <td>0</td>\n",
       "      <td>1</td>\n",
       "      <td>...</td>\n",
       "      <td>0</td>\n",
       "      <td>0</td>\n",
       "      <td>0</td>\n",
       "      <td>0</td>\n",
       "      <td>0</td>\n",
       "      <td>0</td>\n",
       "      <td>0</td>\n",
       "      <td>0</td>\n",
       "      <td>0</td>\n",
       "      <td>0</td>\n",
       "    </tr>\n",
       "    <tr>\n",
       "      <th>77</th>\n",
       "      <td>13.461250</td>\n",
       "      <td>46.447917</td>\n",
       "      <td>27.211250</td>\n",
       "      <td>17.163625</td>\n",
       "      <td>259.121375</td>\n",
       "      <td>138.387000</td>\n",
       "      <td>2.0</td>\n",
       "      <td>0.0</td>\n",
       "      <td>0</td>\n",
       "      <td>1</td>\n",
       "      <td>...</td>\n",
       "      <td>0</td>\n",
       "      <td>0</td>\n",
       "      <td>0</td>\n",
       "      <td>0</td>\n",
       "      <td>0</td>\n",
       "      <td>0</td>\n",
       "      <td>0</td>\n",
       "      <td>0</td>\n",
       "      <td>0</td>\n",
       "      <td>0</td>\n",
       "    </tr>\n",
       "    <tr>\n",
       "      <th>79</th>\n",
       "      <td>13.532083</td>\n",
       "      <td>40.979583</td>\n",
       "      <td>28.335708</td>\n",
       "      <td>19.591167</td>\n",
       "      <td>279.779167</td>\n",
       "      <td>176.382667</td>\n",
       "      <td>8.0</td>\n",
       "      <td>0.0</td>\n",
       "      <td>0</td>\n",
       "      <td>0</td>\n",
       "      <td>...</td>\n",
       "      <td>0</td>\n",
       "      <td>0</td>\n",
       "      <td>0</td>\n",
       "      <td>0</td>\n",
       "      <td>0</td>\n",
       "      <td>0</td>\n",
       "      <td>0</td>\n",
       "      <td>0</td>\n",
       "      <td>0</td>\n",
       "      <td>0</td>\n",
       "    </tr>\n",
       "    <tr>\n",
       "      <th>83</th>\n",
       "      <td>13.216250</td>\n",
       "      <td>38.260417</td>\n",
       "      <td>74.329167</td>\n",
       "      <td>65.138333</td>\n",
       "      <td>264.687500</td>\n",
       "      <td>27.791292</td>\n",
       "      <td>2.0</td>\n",
       "      <td>0.0</td>\n",
       "      <td>0</td>\n",
       "      <td>1</td>\n",
       "      <td>...</td>\n",
       "      <td>0</td>\n",
       "      <td>0</td>\n",
       "      <td>0</td>\n",
       "      <td>0</td>\n",
       "      <td>0</td>\n",
       "      <td>0</td>\n",
       "      <td>0</td>\n",
       "      <td>0</td>\n",
       "      <td>0</td>\n",
       "      <td>0</td>\n",
       "    </tr>\n",
       "  </tbody>\n",
       "</table>\n",
       "<p>5 rows × 30 columns</p>\n",
       "</div>"
      ],
      "text/plain": [
       "    Battery Voltage AVG  Temperature AVG  Relative Humidity AVG  \\\n",
       "34            13.643750        26.321667              19.715000   \n",
       "40            13.749583        31.300000              21.690708   \n",
       "77            13.461250        46.447917              27.211250   \n",
       "79            13.532083        40.979583              28.335708   \n",
       "83            13.216250        38.260417              74.329167   \n",
       "\n",
       "    Wind Speed Daily AVG  Wind Direction AVG  Solare Radiation AVG  Attempted  \\\n",
       "34             27.839583           68.004167             88.496250        2.0   \n",
       "40              2.245833          117.549667             93.660417        3.0   \n",
       "77             17.163625          259.121375            138.387000        2.0   \n",
       "79             19.591167          279.779167            176.382667        8.0   \n",
       "83             65.138333          264.687500             27.791292        2.0   \n",
       "\n",
       "    Success Percentage  Route_Curtis RIngraham Directge  \\\n",
       "34                 0.0                                0   \n",
       "40                 0.0                                0   \n",
       "77                 0.0                                0   \n",
       "79                 0.0                                0   \n",
       "83                 0.0                                0   \n",
       "\n",
       "    Route_Disappointment Cleaver  ...  Route_Mowich Face  \\\n",
       "34                             1  ...                  0   \n",
       "40                             1  ...                  0   \n",
       "77                             1  ...                  0   \n",
       "79                             0  ...                  0   \n",
       "83                             1  ...                  0   \n",
       "\n",
       "    Route_Nisqually Glacier  Route_Ptarmigan RIngraham Directge  \\\n",
       "34                        0                                   0   \n",
       "40                        0                                   0   \n",
       "77                        0                                   0   \n",
       "79                        0                                   0   \n",
       "83                        0                                   0   \n",
       "\n",
       "    Route_Success Cleaver  Route_Sunset RIngraham Directge  \\\n",
       "34                      0                                0   \n",
       "40                      0                                0   \n",
       "77                      0                                0   \n",
       "79                      0                                0   \n",
       "83                      0                                0   \n",
       "\n",
       "    Route_Tahoma Cleaver  Route_Tahoma Glacier  Route_Unknown  \\\n",
       "34                     0                     0              0   \n",
       "40                     0                     0              0   \n",
       "77                     0                     0              0   \n",
       "79                     0                     0              0   \n",
       "83                     0                     0              0   \n",
       "\n",
       "    Route_Wilson Headwall  Route_glacier only - no summit attempt  \n",
       "34                      0                                       0  \n",
       "40                      0                                       0  \n",
       "77                      0                                       0  \n",
       "79                      0                                       0  \n",
       "83                      0                                       0  \n",
       "\n",
       "[5 rows x 30 columns]"
      ]
     },
     "execution_count": 34,
     "metadata": {},
     "output_type": "execute_result"
    }
   ],
   "source": [
    "joined_data = pd.get_dummies(joined_data, drop_first = False)\n",
    "joined_data.head()"
   ]
  },
  {
   "cell_type": "code",
   "execution_count": 35,
   "id": "d02724ed",
   "metadata": {},
   "outputs": [
    {
     "data": {
      "text/plain": [
       "(1889, 29)"
      ]
     },
     "execution_count": 35,
     "metadata": {},
     "output_type": "execute_result"
    }
   ],
   "source": [
    "x = joined_data.drop('Success Percentage', axis = 1)\n",
    "x.shape"
   ]
  },
  {
   "cell_type": "code",
   "execution_count": 36,
   "id": "dc368c38",
   "metadata": {},
   "outputs": [
    {
     "data": {
      "text/plain": [
       "(1889,)"
      ]
     },
     "execution_count": 36,
     "metadata": {},
     "output_type": "execute_result"
    }
   ],
   "source": [
    "y = data['Success Percentage']\n",
    "y.shape"
   ]
  },
  {
   "cell_type": "code",
   "execution_count": 37,
   "id": "dc80c6f0",
   "metadata": {},
   "outputs": [],
   "source": [
    "from sklearn.ensemble import ExtraTreesRegressor"
   ]
  },
  {
   "cell_type": "code",
   "execution_count": 38,
   "id": "559861b4",
   "metadata": {},
   "outputs": [],
   "source": [
    "model = ExtraTreesRegressor()"
   ]
  },
  {
   "cell_type": "code",
   "execution_count": 39,
   "id": "441aa02d",
   "metadata": {},
   "outputs": [
    {
     "data": {
      "text/plain": [
       "ExtraTreesRegressor()"
      ]
     },
     "execution_count": 39,
     "metadata": {},
     "output_type": "execute_result"
    }
   ],
   "source": [
    "model.fit(x,y)"
   ]
  },
  {
   "cell_type": "code",
   "execution_count": 40,
   "id": "666225e2",
   "metadata": {},
   "outputs": [
    {
     "data": {
      "text/plain": [
       "array([8.08023803e-02, 7.70654205e-02, 7.05019577e-02, 6.46308330e-02,\n",
       "       6.60529938e-02, 1.70034841e-01, 2.97305464e-01, 7.73359031e-04,\n",
       "       5.09237481e-02, 3.16978853e-02, 5.94929758e-04, 8.37179955e-03,\n",
       "       0.00000000e+00, 1.22678784e-03, 2.75823639e-03, 3.51454282e-03,\n",
       "       2.94322620e-02, 7.31611918e-03, 1.26811890e-02, 2.78310876e-03,\n",
       "       0.00000000e+00, 3.59633930e-03, 6.96561081e-04, 1.19888092e-03,\n",
       "       3.53462759e-05, 3.45066331e-04, 0.00000000e+00, 0.00000000e+00,\n",
       "       1.56599482e-02])"
      ]
     },
     "execution_count": 40,
     "metadata": {},
     "output_type": "execute_result"
    }
   ],
   "source": [
    "model.feature_importances_"
   ]
  },
  {
   "cell_type": "code",
   "execution_count": 41,
   "id": "93ad056b",
   "metadata": {},
   "outputs": [],
   "source": [
    "feature_imp = pd.Series(model.feature_importances_, index = x.columns)"
   ]
  },
  {
   "cell_type": "code",
   "execution_count": 42,
   "id": "272f9499",
   "metadata": {},
   "outputs": [
    {
     "data": {
      "text/plain": [
       "<AxesSubplot:>"
      ]
     },
     "execution_count": 42,
     "metadata": {},
     "output_type": "execute_result"
    },
    {
     "data": {
      "image/png": "[encoded data removed]",
      "text/plain": [
       "<Figure size 432x288 with 1 Axes>"
      ]
     },
     "metadata": {
      "needs_background": "light"
     },
     "output_type": "display_data"
    }
   ],
   "source": [
    "feature_imp.plot(kind = 'bar')"
   ]
  },
  {
   "cell_type": "code",
   "execution_count": 43,
   "id": "0b2eba8c",
   "metadata": {},
   "outputs": [
    {
     "data": {
      "text/html": [
       "<div>\n",
       "<style scoped>\n",
       "    .dataframe tbody tr th:only-of-type {\n",
       "        vertical-align: middle;\n",
       "    }\n",
       "\n",
       "    .dataframe tbody tr th {\n",
       "        vertical-align: top;\n",
       "    }\n",
       "\n",
       "    .dataframe thead th {\n",
       "        text-align: right;\n",
       "    }\n",
       "</style>\n",
       "<table border=\"1\" class=\"dataframe\">\n",
       "  <thead>\n",
       "    <tr style=\"text-align: right;\">\n",
       "      <th></th>\n",
       "      <th>Battery Voltage AVG</th>\n",
       "      <th>Temperature AVG</th>\n",
       "      <th>Relative Humidity AVG</th>\n",
       "      <th>Wind Speed Daily AVG</th>\n",
       "      <th>Wind Direction AVG</th>\n",
       "      <th>Solare Radiation AVG</th>\n",
       "      <th>Attempted</th>\n",
       "      <th>Success Percentage</th>\n",
       "    </tr>\n",
       "  </thead>\n",
       "  <tbody>\n",
       "    <tr>\n",
       "      <th>34</th>\n",
       "      <td>13.643750</td>\n",
       "      <td>26.321667</td>\n",
       "      <td>19.715000</td>\n",
       "      <td>27.839583</td>\n",
       "      <td>68.004167</td>\n",
       "      <td>88.496250</td>\n",
       "      <td>2.0</td>\n",
       "      <td>0.0</td>\n",
       "    </tr>\n",
       "    <tr>\n",
       "      <th>40</th>\n",
       "      <td>13.749583</td>\n",
       "      <td>31.300000</td>\n",
       "      <td>21.690708</td>\n",
       "      <td>2.245833</td>\n",
       "      <td>117.549667</td>\n",
       "      <td>93.660417</td>\n",
       "      <td>3.0</td>\n",
       "      <td>0.0</td>\n",
       "    </tr>\n",
       "    <tr>\n",
       "      <th>77</th>\n",
       "      <td>13.461250</td>\n",
       "      <td>46.447917</td>\n",
       "      <td>27.211250</td>\n",
       "      <td>17.163625</td>\n",
       "      <td>259.121375</td>\n",
       "      <td>138.387000</td>\n",
       "      <td>2.0</td>\n",
       "      <td>0.0</td>\n",
       "    </tr>\n",
       "    <tr>\n",
       "      <th>79</th>\n",
       "      <td>13.532083</td>\n",
       "      <td>40.979583</td>\n",
       "      <td>28.335708</td>\n",
       "      <td>19.591167</td>\n",
       "      <td>279.779167</td>\n",
       "      <td>176.382667</td>\n",
       "      <td>8.0</td>\n",
       "      <td>0.0</td>\n",
       "    </tr>\n",
       "    <tr>\n",
       "      <th>83</th>\n",
       "      <td>13.216250</td>\n",
       "      <td>38.260417</td>\n",
       "      <td>74.329167</td>\n",
       "      <td>65.138333</td>\n",
       "      <td>264.687500</td>\n",
       "      <td>27.791292</td>\n",
       "      <td>2.0</td>\n",
       "      <td>0.0</td>\n",
       "    </tr>\n",
       "  </tbody>\n",
       "</table>\n",
       "</div>"
      ],
      "text/plain": [
       "    Battery Voltage AVG  Temperature AVG  Relative Humidity AVG  \\\n",
       "34            13.643750        26.321667              19.715000   \n",
       "40            13.749583        31.300000              21.690708   \n",
       "77            13.461250        46.447917              27.211250   \n",
       "79            13.532083        40.979583              28.335708   \n",
       "83            13.216250        38.260417              74.329167   \n",
       "\n",
       "    Wind Speed Daily AVG  Wind Direction AVG  Solare Radiation AVG  Attempted  \\\n",
       "34             27.839583           68.004167             88.496250        2.0   \n",
       "40              2.245833          117.549667             93.660417        3.0   \n",
       "77             17.163625          259.121375            138.387000        2.0   \n",
       "79             19.591167          279.779167            176.382667        8.0   \n",
       "83             65.138333          264.687500             27.791292        2.0   \n",
       "\n",
       "    Success Percentage  \n",
       "34                 0.0  \n",
       "40                 0.0  \n",
       "77                 0.0  \n",
       "79                 0.0  \n",
       "83                 0.0  "
      ]
     },
     "execution_count": 43,
     "metadata": {},
     "output_type": "execute_result"
    }
   ],
   "source": [
    "data.head()"
   ]
  },
  {
   "cell_type": "code",
   "execution_count": 44,
   "id": "18d21a18",
   "metadata": {},
   "outputs": [
    {
     "data": {
      "text/plain": [
       "(1889, 6)"
      ]
     },
     "execution_count": 44,
     "metadata": {},
     "output_type": "execute_result"
    }
   ],
   "source": [
    "train = data.drop(['Wind Direction AVG', 'Success Percentage'], axis = 1)\n",
    "train.shape"
   ]
  },
  {
   "cell_type": "code",
   "execution_count": 45,
   "id": "bb48592a",
   "metadata": {},
   "outputs": [],
   "source": [
    "train = train.drop(['Attempted'], axis=1)\n"
   ]
  },
  {
   "cell_type": "code",
   "execution_count": 46,
   "id": "351fc380",
   "metadata": {},
   "outputs": [
    {
     "data": {
      "text/html": [
       "<div>\n",
       "<style scoped>\n",
       "    .dataframe tbody tr th:only-of-type {\n",
       "        vertical-align: middle;\n",
       "    }\n",
       "\n",
       "    .dataframe tbody tr th {\n",
       "        vertical-align: top;\n",
       "    }\n",
       "\n",
       "    .dataframe thead th {\n",
       "        text-align: right;\n",
       "    }\n",
       "</style>\n",
       "<table border=\"1\" class=\"dataframe\">\n",
       "  <thead>\n",
       "    <tr style=\"text-align: right;\">\n",
       "      <th></th>\n",
       "      <th>Battery Voltage AVG</th>\n",
       "      <th>Temperature AVG</th>\n",
       "      <th>Relative Humidity AVG</th>\n",
       "      <th>Wind Speed Daily AVG</th>\n",
       "      <th>Solare Radiation AVG</th>\n",
       "    </tr>\n",
       "  </thead>\n",
       "  <tbody>\n",
       "    <tr>\n",
       "      <th>34</th>\n",
       "      <td>13.643750</td>\n",
       "      <td>26.321667</td>\n",
       "      <td>19.715000</td>\n",
       "      <td>27.839583</td>\n",
       "      <td>88.496250</td>\n",
       "    </tr>\n",
       "    <tr>\n",
       "      <th>40</th>\n",
       "      <td>13.749583</td>\n",
       "      <td>31.300000</td>\n",
       "      <td>21.690708</td>\n",
       "      <td>2.245833</td>\n",
       "      <td>93.660417</td>\n",
       "    </tr>\n",
       "    <tr>\n",
       "      <th>77</th>\n",
       "      <td>13.461250</td>\n",
       "      <td>46.447917</td>\n",
       "      <td>27.211250</td>\n",
       "      <td>17.163625</td>\n",
       "      <td>138.387000</td>\n",
       "    </tr>\n",
       "    <tr>\n",
       "      <th>79</th>\n",
       "      <td>13.532083</td>\n",
       "      <td>40.979583</td>\n",
       "      <td>28.335708</td>\n",
       "      <td>19.591167</td>\n",
       "      <td>176.382667</td>\n",
       "    </tr>\n",
       "    <tr>\n",
       "      <th>83</th>\n",
       "      <td>13.216250</td>\n",
       "      <td>38.260417</td>\n",
       "      <td>74.329167</td>\n",
       "      <td>65.138333</td>\n",
       "      <td>27.791292</td>\n",
       "    </tr>\n",
       "  </tbody>\n",
       "</table>\n",
       "</div>"
      ],
      "text/plain": [
       "    Battery Voltage AVG  Temperature AVG  Relative Humidity AVG  \\\n",
       "34            13.643750        26.321667              19.715000   \n",
       "40            13.749583        31.300000              21.690708   \n",
       "77            13.461250        46.447917              27.211250   \n",
       "79            13.532083        40.979583              28.335708   \n",
       "83            13.216250        38.260417              74.329167   \n",
       "\n",
       "    Wind Speed Daily AVG  Solare Radiation AVG  \n",
       "34             27.839583             88.496250  \n",
       "40              2.245833             93.660417  \n",
       "77             17.163625            138.387000  \n",
       "79             19.591167            176.382667  \n",
       "83             65.138333             27.791292  "
      ]
     },
     "execution_count": 46,
     "metadata": {},
     "output_type": "execute_result"
    }
   ],
   "source": [
    "train.head()"
   ]
  },
  {
   "cell_type": "code",
   "execution_count": 47,
   "id": "95f0e8fa",
   "metadata": {},
   "outputs": [
    {
     "data": {
      "text/plain": [
       "(1889,)"
      ]
     },
     "execution_count": 47,
     "metadata": {},
     "output_type": "execute_result"
    }
   ],
   "source": [
    "y.shape"
   ]
  },
  {
   "cell_type": "code",
   "execution_count": 48,
   "id": "3021ec60",
   "metadata": {},
   "outputs": [],
   "source": [
    "from sklearn.model_selection import train_test_split"
   ]
  },
  {
   "cell_type": "code",
   "execution_count": 49,
   "id": "4a08b573",
   "metadata": {},
   "outputs": [],
   "source": [
    "xtrain, xtest, ytrain, ytest = train_test_split(train,y,test_size = 0.2, random_state = 42)"
   ]
  },
  {
   "cell_type": "code",
   "execution_count": 50,
   "id": "c27d7d13",
   "metadata": {},
   "outputs": [
    {
     "data": {
      "text/plain": [
       "(1511, 5)"
      ]
     },
     "execution_count": 50,
     "metadata": {},
     "output_type": "execute_result"
    }
   ],
   "source": [
    "xtrain.shape"
   ]
  },
  {
   "cell_type": "code",
   "execution_count": 51,
   "id": "625eded2",
   "metadata": {},
   "outputs": [
    {
     "data": {
      "text/plain": [
       "(378,)"
      ]
     },
     "execution_count": 51,
     "metadata": {},
     "output_type": "execute_result"
    }
   ],
   "source": [
    "ytest.shape"
   ]
  },
  {
   "cell_type": "code",
   "execution_count": 52,
   "id": "191100a2",
   "metadata": {},
   "outputs": [],
   "source": [
    "from sklearn.linear_model import LinearRegression"
   ]
  },
  {
   "cell_type": "code",
   "execution_count": 53,
   "id": "dd3b0439",
   "metadata": {},
   "outputs": [],
   "source": [
    "modelLR = LinearRegression()"
   ]
  },
  {
   "cell_type": "code",
   "execution_count": 54,
   "id": "e5dbf816",
   "metadata": {},
   "outputs": [
    {
     "data": {
      "text/plain": [
       "LinearRegression()"
      ]
     },
     "execution_count": 54,
     "metadata": {},
     "output_type": "execute_result"
    }
   ],
   "source": [
    "modelLR.fit(xtrain,ytrain)"
   ]
  },
  {
   "cell_type": "code",
   "execution_count": 55,
   "id": "16aed65d",
   "metadata": {},
   "outputs": [],
   "source": [
    "pred = modelLR.predict(xtest)"
   ]
  },
  {
   "cell_type": "code",
   "execution_count": 56,
   "id": "8a41fba3",
   "metadata": {},
   "outputs": [
    {
     "data": {
      "text/plain": [
       "<seaborn.axisgrid.FacetGrid at 0x1cf28c25430>"
      ]
     },
     "execution_count": 56,
     "metadata": {},
     "output_type": "execute_result"
    },
    {
     "data": {
      "image/png": "[encoded data removed]",
      "text/plain": [
       "<Figure size 360x360 with 1 Axes>"
      ]
     },
     "metadata": {
      "needs_background": "light"
     },
     "output_type": "display_data"
    }
   ],
   "source": [
    "sns.displot(pred-ytest)"
   ]
  },
  {
   "cell_type": "code",
   "execution_count": 57,
   "id": "a14498f3",
   "metadata": {},
   "outputs": [],
   "source": [
    "from sklearn.preprocessing import MinMaxScaler\n",
    "normal = MinMaxScaler()"
   ]
  },
  {
   "cell_type": "code",
   "execution_count": 58,
   "id": "99de014c",
   "metadata": {},
   "outputs": [],
   "source": [
    "train_norm = normal.fit_transform(train)"
   ]
  },
  {
   "cell_type": "code",
   "execution_count": 59,
   "id": "f97c170d",
   "metadata": {},
   "outputs": [
    {
     "data": {
      "text/html": [
       "<div>\n",
       "<style scoped>\n",
       "    .dataframe tbody tr th:only-of-type {\n",
       "        vertical-align: middle;\n",
       "    }\n",
       "\n",
       "    .dataframe tbody tr th {\n",
       "        vertical-align: top;\n",
       "    }\n",
       "\n",
       "    .dataframe thead th {\n",
       "        text-align: right;\n",
       "    }\n",
       "</style>\n",
       "<table border=\"1\" class=\"dataframe\">\n",
       "  <thead>\n",
       "    <tr style=\"text-align: right;\">\n",
       "      <th></th>\n",
       "      <th>Battery Voltage AVG</th>\n",
       "      <th>Temperature AVG</th>\n",
       "      <th>Relative Humidity AVG</th>\n",
       "      <th>Wind Speed Daily AVG</th>\n",
       "      <th>Solare Radiation AVG</th>\n",
       "    </tr>\n",
       "  </thead>\n",
       "  <tbody>\n",
       "    <tr>\n",
       "      <th>0</th>\n",
       "      <td>0.813017</td>\n",
       "      <td>0.395119</td>\n",
       "      <td>0.083886</td>\n",
       "      <td>0.427392</td>\n",
       "      <td>0.240442</td>\n",
       "    </tr>\n",
       "    <tr>\n",
       "      <th>1</th>\n",
       "      <td>0.944215</td>\n",
       "      <td>0.496061</td>\n",
       "      <td>0.106431</td>\n",
       "      <td>0.034478</td>\n",
       "      <td>0.254473</td>\n",
       "    </tr>\n",
       "    <tr>\n",
       "      <th>2</th>\n",
       "      <td>0.586777</td>\n",
       "      <td>0.803203</td>\n",
       "      <td>0.169424</td>\n",
       "      <td>0.263495</td>\n",
       "      <td>0.375994</td>\n",
       "    </tr>\n",
       "    <tr>\n",
       "      <th>3</th>\n",
       "      <td>0.674587</td>\n",
       "      <td>0.692326</td>\n",
       "      <td>0.182255</td>\n",
       "      <td>0.300762</td>\n",
       "      <td>0.479228</td>\n",
       "    </tr>\n",
       "    <tr>\n",
       "      <th>4</th>\n",
       "      <td>0.283058</td>\n",
       "      <td>0.637191</td>\n",
       "      <td>0.707076</td>\n",
       "      <td>1.000000</td>\n",
       "      <td>0.075508</td>\n",
       "    </tr>\n",
       "  </tbody>\n",
       "</table>\n",
       "</div>"
      ],
      "text/plain": [
       "   Battery Voltage AVG  Temperature AVG  Relative Humidity AVG  \\\n",
       "0             0.813017         0.395119               0.083886   \n",
       "1             0.944215         0.496061               0.106431   \n",
       "2             0.586777         0.803203               0.169424   \n",
       "3             0.674587         0.692326               0.182255   \n",
       "4             0.283058         0.637191               0.707076   \n",
       "\n",
       "   Wind Speed Daily AVG  Solare Radiation AVG  \n",
       "0              0.427392              0.240442  \n",
       "1              0.034478              0.254473  \n",
       "2              0.263495              0.375994  \n",
       "3              0.300762              0.479228  \n",
       "4              1.000000              0.075508  "
      ]
     },
     "execution_count": 59,
     "metadata": {},
     "output_type": "execute_result"
    }
   ],
   "source": [
    "x = pd.DataFrame(train_norm, columns = train.columns)\n",
    "x.head()"
   ]
  },
  {
   "cell_type": "code",
   "execution_count": 60,
   "id": "210ff80f",
   "metadata": {},
   "outputs": [],
   "source": [
    "xtrain, xtest, ytrain, ytest = train_test_split(x,y,test_size = 0.2, random_state = 42)"
   ]
  },
  {
   "cell_type": "code",
   "execution_count": 61,
   "id": "fcc32b77",
   "metadata": {},
   "outputs": [
    {
     "data": {
      "text/plain": [
       "LinearRegression()"
      ]
     },
     "execution_count": 61,
     "metadata": {},
     "output_type": "execute_result"
    }
   ],
   "source": [
    "modelLR.fit(x,y)"
   ]
  },
  {
   "cell_type": "code",
   "execution_count": 62,
   "id": "dbfc6224",
   "metadata": {},
   "outputs": [],
   "source": [
    "newpred = modelLR.predict(xtest)"
   ]
  },
  {
   "cell_type": "code",
   "execution_count": 63,
   "id": "79fb82fc",
   "metadata": {},
   "outputs": [
    {
     "data": {
      "text/plain": [
       "<matplotlib.collections.PathCollection at 0x1cf28e1b760>"
      ]
     },
     "execution_count": 63,
     "metadata": {},
     "output_type": "execute_result"
    },
    {
     "data": {
      "image/png": "[encoded data removed]",
      "text/plain": [
       "<Figure size 432x288 with 1 Axes>"
      ]
     },
     "metadata": {
      "needs_background": "light"
     },
     "output_type": "display_data"
    }
   ],
   "source": [
    "plt.scatter(ytest,newpred)"
   ]
  },
  {
   "cell_type": "code",
   "execution_count": 64,
   "id": "53bfe1ae",
   "metadata": {},
   "outputs": [],
   "source": [
    "from sklearn.metrics import mean_absolute_error"
   ]
  },
  {
   "cell_type": "code",
   "execution_count": 65,
   "id": "905274e4",
   "metadata": {},
   "outputs": [
    {
     "data": {
      "text/plain": [
       "0.40571757251231416"
      ]
     },
     "execution_count": 65,
     "metadata": {},
     "output_type": "execute_result"
    }
   ],
   "source": [
    "MAElr = mean_absolute_error(ytest, newpred)\n",
    "MAElr"
   ]
  },
  {
   "cell_type": "code",
   "execution_count": 66,
   "id": "1ceaa6e1",
   "metadata": {},
   "outputs": [],
   "source": [
    "import sklearn"
   ]
  },
  {
   "cell_type": "code",
   "execution_count": 67,
   "id": "674e704f",
   "metadata": {},
   "outputs": [],
   "source": [
    "modelSVR = sklearn.svm.SVR()"
   ]
  },
  {
   "cell_type": "code",
   "execution_count": 68,
   "id": "9b8f4a21",
   "metadata": {},
   "outputs": [
    {
     "data": {
      "text/plain": [
       "SVR()"
      ]
     },
     "execution_count": 68,
     "metadata": {},
     "output_type": "execute_result"
    }
   ],
   "source": [
    "modelSVR.fit(x,y)"
   ]
  },
  {
   "cell_type": "code",
   "execution_count": 69,
   "id": "05d39d06",
   "metadata": {},
   "outputs": [
    {
     "data": {
      "text/plain": [
       "array([ 0.72530824,  0.10564533,  0.09655786,  0.0837339 ,  0.68171619,\n",
       "        0.09983724,  0.46807953,  0.01606418,  0.43011341,  0.43363202,\n",
       "        0.84154647,  0.72232573,  0.55830018,  0.62238017,  0.10027407,\n",
       "        0.21431332,  0.56705922,  0.85341172,  0.35917494,  0.43329438,\n",
       "        0.33133901,  0.0551538 ,  0.68171619,  0.85472236,  0.52480115,\n",
       "        0.18159147,  0.87205438,  0.00247881,  0.65393906,  0.11314158,\n",
       "        0.88902067,  0.67038797,  0.84154647,  0.34518417,  0.62238017,\n",
       "        0.09955931,  0.63577699,  0.89269047,  0.49257738,  0.58578539,\n",
       "        0.45805359,  0.10020152,  0.10564533,  0.87205438,  0.72232573,\n",
       "        0.79324235,  0.73321658,  0.32067644,  0.80699577,  0.71977843,\n",
       "        0.09894113,  0.43011341,  0.56705922,  0.080822  ,  0.49257738,\n",
       "        0.73985034,  0.67211657,  0.57204862,  0.89992146,  0.84154647,\n",
       "        0.2022884 ,  0.10020152,  0.41657905,  0.0944709 ,  0.62491511,\n",
       "        0.89992146,  0.74339209,  0.87690838,  0.65126122,  0.68171619,\n",
       "        0.14658525,  0.39721102,  0.72530824,  0.89742423, -0.09929844,\n",
       "        0.22831894,  0.09990738,  0.43324104,  0.89269047,  0.51561872,\n",
       "        0.59193373,  0.62491511,  0.23765812,  0.68171619,  0.41657905,\n",
       "        0.67038797,  0.36184504,  0.32067644,  0.68171619,  0.10564533,\n",
       "        0.06764246,  0.72232573,  0.10020152,  0.49257738,  0.10732265,\n",
       "        0.32067644,  0.55830018,  0.64985502,  0.3885426 ,  0.51561872,\n",
       "        0.73985034,  0.09958134,  0.56641575,  0.56454694,  0.10014185,\n",
       "        0.08994457,  0.85341172,  0.88902067,  0.43329438,  0.89742423,\n",
       "        0.02845472,  0.55914233,  0.49257738,  0.87205438,  0.90036568,\n",
       "        0.36184504,  0.87788016,  0.41033545,  0.57429172,  0.36184504,\n",
       "       -0.03181492,  0.48338449,  0.57204862,  0.88902067,  0.68171619,\n",
       "        0.68171619,  0.89269047,  0.74907776,  0.3885426 ,  0.1040051 ,\n",
       "        0.51561872,  0.09958134,  0.23765812,  0.08119041,  0.89992146,\n",
       "        0.48338449,  0.41657905,  0.87788016,  0.43329438,  0.51561872,\n",
       "        0.87205438,  0.1003053 ,  0.23765812,  0.23765812,  0.68171619,\n",
       "        0.89992146,  0.55830018,  0.73321658,  0.68171619,  0.18598205,\n",
       "        0.72530824,  0.14658525,  0.57204862,  0.09682137,  0.68171619,\n",
       "        0.89269047,  0.89269047,  0.90036568,  0.57204862,  0.08979685,\n",
       "        0.67211657,  0.08994457,  0.08119041,  0.67211657,  0.56705922,\n",
       "        0.09682137,  0.45805359,  0.47024428,  0.90036568,  0.34214401,\n",
       "        0.89992146, -0.00514932,  0.10641979,  0.11314158,  0.48338449,\n",
       "        0.87205438,  0.41657905,  0.55914233,  0.46807953,  0.97901771,\n",
       "        0.41657905,  0.09955931,  0.6180792 ,  0.89992146,  0.36184504,\n",
       "        0.10026757,  0.0837339 ,  0.43363202,  0.72530824,  0.87690838,\n",
       "        0.34664977,  0.7586893 ,  0.35917494,  0.42225679,  0.21095021,\n",
       "        0.65126122,  0.3317349 ,  0.09958134,  0.87205438,  0.56705922,\n",
       "        0.48338449,  0.10014665,  0.50009762,  0.89992146,  0.54070986,\n",
       "        0.89992146,  0.41033545,  0.85472236,  0.50009762,  0.89992146,\n",
       "        0.08979685,  0.59193373,  0.09983724,  0.09983724,  0.55830018,\n",
       "        0.88902067,  0.10269431,  0.55914233,  0.32259566,  0.14658525,\n",
       "        0.65126122,  0.52480115,  0.33249105,  0.63577699,  0.35917494,\n",
       "        0.43363202,  0.14009529,  0.3317349 ,  0.52480115,  0.73985034,\n",
       "        0.80699577,  0.32067644,  0.44719711,  0.41657905,  0.02845472,\n",
       "        0.65393906,  0.87690838,  0.2022884 ,  0.80699577,  0.0539431 ,\n",
       "        0.43011341,  0.11314158,  0.85341172,  0.48338449,  0.45805359,\n",
       "        0.62131333,  0.32259566, -0.03025527,  0.87205438,  0.10005425,\n",
       "        0.41657905,  0.41657905,  0.46807953,  0.09989963,  0.39721102,\n",
       "        0.46807953,  0.62491511,  0.55914233,  0.34664977,  0.10564533,\n",
       "        0.71389848,  0.06764246,  0.72232573,  0.71389848,  0.89269047,\n",
       "        0.68171619,  0.09989963,  0.09955931,  0.68171619,  0.0539431 ,\n",
       "        0.45805359,  0.3317349 ,  0.19933985,  0.89992146, -0.04665779,\n",
       "        0.34214401,  0.06764246,  0.72530824,  0.10564533,  0.67160296,\n",
       "        0.23277315,  0.34214401,  0.84154647,  0.6180792 ,  0.85341172,\n",
       "        0.57153859,  0.68171619,  0.56641575,  0.56641575,  0.06304132,\n",
       "        0.97901771,  0.74339209,  0.10640386,  0.10910136,  0.19933985,\n",
       "        0.90036568,  0.21095021,  0.3885426 ,  0.62491511,  0.43329438,\n",
       "        0.57204862,  0.72530824,  0.7586893 ,  0.4640952 ,  0.21431332,\n",
       "        0.43329438,  0.89992146,  0.86548963,  0.23765812,  0.39721102,\n",
       "        0.41657905,  0.14658525,  0.72232573,  0.57204862,  0.09996612,\n",
       "        0.080822  ,  0.10175029,  0.54070986,  0.10036499,  0.72530824,\n",
       "        0.44719711,  0.55914233,  0.65126122,  0.88902067,  0.67038797,\n",
       "        0.5242633 ,  0.87205438,  0.85472236,  0.72530824,  0.09682137,\n",
       "        0.73985034,  0.46807953,  0.76316657,  0.29249122,  0.43011341,\n",
       "        0.51561872,  0.72530824,  0.32067644,  0.55830018,  0.88902067,\n",
       "        0.65393906,  0.88902067,  0.2022884 ,  0.0645916 ,  0.34518417,\n",
       "        0.18159147,  0.56454694,  0.10020152,  0.10011763,  0.43329438,\n",
       "        0.09996612,  0.57204862,  0.55830018,  0.09996612,  0.46807953,\n",
       "        0.71977843,  0.06764246,  0.09985479,  0.56641575,  0.43329438,\n",
       "        0.57153859,  0.57429172,  0.09955931,  0.7586893 ,  0.06304132,\n",
       "        0.67211657,  0.01188646,  0.21431332,  0.52480115,  0.10641979,\n",
       "        0.52480115,  0.5242633 ,  0.62238017,  0.39518012,  0.71389848,\n",
       "        0.65126122,  0.06764246,  0.55830018])"
      ]
     },
     "execution_count": 69,
     "metadata": {},
     "output_type": "execute_result"
    }
   ],
   "source": [
    "modelSVR.predict(xtest)"
   ]
  },
  {
   "cell_type": "code",
   "execution_count": 70,
   "id": "22974c3b",
   "metadata": {},
   "outputs": [
    {
     "data": {
      "text/plain": [
       "<matplotlib.collections.PathCollection at 0x1cf29e4ee80>"
      ]
     },
     "execution_count": 70,
     "metadata": {},
     "output_type": "execute_result"
    },
    {
     "data": {
      "image/png": "[encoded data removed]",
      "text/plain": [
       "<Figure size 432x288 with 1 Axes>"
      ]
     },
     "metadata": {
      "needs_background": "light"
     },
     "output_type": "display_data"
    }
   ],
   "source": [
    "plt.scatter(ytest, modelSVR.predict(xtest))"
   ]
  },
  {
   "cell_type": "code",
   "execution_count": 71,
   "id": "b2af163d",
   "metadata": {},
   "outputs": [
    {
     "data": {
      "text/plain": [
       "0.3720770984848567"
      ]
     },
     "execution_count": 71,
     "metadata": {},
     "output_type": "execute_result"
    }
   ],
   "source": [
    "maeSVR = mean_absolute_error(ytest,modelSVR.predict(xtest))\n",
    "maeSVR"
   ]
  },
  {
   "cell_type": "code",
   "execution_count": 72,
   "id": "114cb505",
   "metadata": {},
   "outputs": [],
   "source": [
    "from sklearn.model_selection import RandomizedSearchCV\n",
    "import numpy as np"
   ]
  },
  {
   "cell_type": "code",
   "execution_count": 73,
   "id": "79615a4a",
   "metadata": {},
   "outputs": [],
   "source": [
    "n_estimators = [int(x) for x in np.linspace(start = 100, stop=1200, num=12)] \n",
    "max_features = ['auto', 'sqrt']\n",
    "max_depth = [int(x) for x in np.linspace(5,30, num = 6)]\n",
    "min_samples_split = [2,5,10,15,100]\n",
    "min_samples_leaf= [1,2,5,10]"
   ]
  },
  {
   "cell_type": "code",
   "execution_count": 74,
   "id": "c2b2ebd6",
   "metadata": {
    "scrolled": true
   },
   "outputs": [
    {
     "data": {
      "text/plain": [
       "{'n_estimators': [100,\n",
       "  200,\n",
       "  300,\n",
       "  400,\n",
       "  500,\n",
       "  600,\n",
       "  700,\n",
       "  800,\n",
       "  900,\n",
       "  1000,\n",
       "  1100,\n",
       "  1200],\n",
       " 'max_features': ['auto', 'sqrt'],\n",
       " 'max_depth': [5, 10, 15, 20, 25, 30],\n",
       " 'min_samples_split': [2, 5, 10, 15, 100],\n",
       " 'min_samples_leaf': [1, 2, 5, 10]}"
      ]
     },
     "execution_count": 74,
     "metadata": {},
     "output_type": "execute_result"
    }
   ],
   "source": [
    "random_grid = {'n_estimators' : n_estimators,\n",
    "              'max_features': max_features,\n",
    "              'max_depth' : max_depth,\n",
    "              'min_samples_split' : min_samples_split,\n",
    "              'min_samples_leaf' : min_samples_leaf}\n",
    "\n",
    "random_grid"
   ]
  },
  {
   "cell_type": "code",
   "execution_count": 74,
   "id": "d778a65f",
   "metadata": {},
   "outputs": [],
   "source": [
    "from sklearn.ensemble import RandomForestRegressor"
   ]
  },
  {
   "cell_type": "code",
   "execution_count": 75,
   "id": "d934665a",
   "metadata": {},
   "outputs": [],
   "source": [
    "rf = RandomForestRegressor()"
   ]
  },
  {
   "cell_type": "code",
   "execution_count": 76,
   "id": "338a9493",
   "metadata": {},
   "outputs": [],
   "source": [
    "rf_random = RandomizedSearchCV(estimator = rf, param_distributions = random_grid, scoring = 'neg_mean_squared_error', n_iter = 10, cv=5, verbose =2, random_state = 42, n_jobs=1)"
   ]
  },
  {
   "cell_type": "code",
   "execution_count": 77,
   "id": "3ea9df87",
   "metadata": {},
   "outputs": [
    {
     "name": "stdout",
     "output_type": "stream",
     "text": [
      "Fitting 5 folds for each of 10 candidates, totalling 50 fits\n",
      "[CV] END max_depth=10, max_features=sqrt, min_samples_leaf=5, min_samples_split=5, n_estimators=900; total time=   2.6s\n",
      "[CV] END max_depth=10, max_features=sqrt, min_samples_leaf=5, min_samples_split=5, n_estimators=900; total time=   2.6s\n",
      "[CV] END max_depth=10, max_features=sqrt, min_samples_leaf=5, min_samples_split=5, n_estimators=900; total time=   2.6s\n",
      "[CV] END max_depth=10, max_features=sqrt, min_samples_leaf=5, min_samples_split=5, n_estimators=900; total time=   2.7s\n",
      "[CV] END max_depth=10, max_features=sqrt, min_samples_leaf=5, min_samples_split=5, n_estimators=900; total time=   2.8s\n",
      "[CV] END max_depth=15, max_features=sqrt, min_samples_leaf=2, min_samples_split=10, n_estimators=1100; total time=   3.2s\n",
      "[CV] END max_depth=15, max_features=sqrt, min_samples_leaf=2, min_samples_split=10, n_estimators=1100; total time=   3.1s\n",
      "[CV] END max_depth=15, max_features=sqrt, min_samples_leaf=2, min_samples_split=10, n_estimators=1100; total time=   3.2s\n",
      "[CV] END max_depth=15, max_features=sqrt, min_samples_leaf=2, min_samples_split=10, n_estimators=1100; total time=   3.2s\n",
      "[CV] END max_depth=15, max_features=sqrt, min_samples_leaf=2, min_samples_split=10, n_estimators=1100; total time=   3.3s\n",
      "[CV] END max_depth=15, max_features=auto, min_samples_leaf=5, min_samples_split=100, n_estimators=300; total time=   0.9s\n",
      "[CV] END max_depth=15, max_features=auto, min_samples_leaf=5, min_samples_split=100, n_estimators=300; total time=   1.0s\n",
      "[CV] END max_depth=15, max_features=auto, min_samples_leaf=5, min_samples_split=100, n_estimators=300; total time=   1.1s\n",
      "[CV] END max_depth=15, max_features=auto, min_samples_leaf=5, min_samples_split=100, n_estimators=300; total time=   1.0s\n",
      "[CV] END max_depth=15, max_features=auto, min_samples_leaf=5, min_samples_split=100, n_estimators=300; total time=   1.1s\n",
      "[CV] END max_depth=15, max_features=auto, min_samples_leaf=5, min_samples_split=5, n_estimators=400; total time=   1.6s\n",
      "[CV] END max_depth=15, max_features=auto, min_samples_leaf=5, min_samples_split=5, n_estimators=400; total time=   1.4s\n",
      "[CV] END max_depth=15, max_features=auto, min_samples_leaf=5, min_samples_split=5, n_estimators=400; total time=   1.4s\n",
      "[CV] END max_depth=15, max_features=auto, min_samples_leaf=5, min_samples_split=5, n_estimators=400; total time=   1.5s\n",
      "[CV] END max_depth=15, max_features=auto, min_samples_leaf=5, min_samples_split=5, n_estimators=400; total time=   1.5s\n",
      "[CV] END max_depth=20, max_features=auto, min_samples_leaf=10, min_samples_split=5, n_estimators=700; total time=   2.3s\n",
      "[CV] END max_depth=20, max_features=auto, min_samples_leaf=10, min_samples_split=5, n_estimators=700; total time=   2.6s\n",
      "[CV] END max_depth=20, max_features=auto, min_samples_leaf=10, min_samples_split=5, n_estimators=700; total time=   2.7s\n",
      "[CV] END max_depth=20, max_features=auto, min_samples_leaf=10, min_samples_split=5, n_estimators=700; total time=   2.7s\n",
      "[CV] END max_depth=20, max_features=auto, min_samples_leaf=10, min_samples_split=5, n_estimators=700; total time=   2.8s\n",
      "[CV] END max_depth=25, max_features=sqrt, min_samples_leaf=1, min_samples_split=2, n_estimators=1000; total time=   3.1s\n",
      "[CV] END max_depth=25, max_features=sqrt, min_samples_leaf=1, min_samples_split=2, n_estimators=1000; total time=   3.0s\n",
      "[CV] END max_depth=25, max_features=sqrt, min_samples_leaf=1, min_samples_split=2, n_estimators=1000; total time=   3.0s\n",
      "[CV] END max_depth=25, max_features=sqrt, min_samples_leaf=1, min_samples_split=2, n_estimators=1000; total time=   3.0s\n",
      "[CV] END max_depth=25, max_features=sqrt, min_samples_leaf=1, min_samples_split=2, n_estimators=1000; total time=   3.0s\n",
      "[CV] END max_depth=5, max_features=sqrt, min_samples_leaf=10, min_samples_split=15, n_estimators=1100; total time=   2.7s\n",
      "[CV] END max_depth=5, max_features=sqrt, min_samples_leaf=10, min_samples_split=15, n_estimators=1100; total time=   2.7s\n",
      "[CV] END max_depth=5, max_features=sqrt, min_samples_leaf=10, min_samples_split=15, n_estimators=1100; total time=   2.7s\n",
      "[CV] END max_depth=5, max_features=sqrt, min_samples_leaf=10, min_samples_split=15, n_estimators=1100; total time=   2.8s\n",
      "[CV] END max_depth=5, max_features=sqrt, min_samples_leaf=10, min_samples_split=15, n_estimators=1100; total time=   2.9s\n",
      "[CV] END max_depth=15, max_features=sqrt, min_samples_leaf=1, min_samples_split=15, n_estimators=300; total time=   0.8s\n",
      "[CV] END max_depth=15, max_features=sqrt, min_samples_leaf=1, min_samples_split=15, n_estimators=300; total time=   0.8s\n",
      "[CV] END max_depth=15, max_features=sqrt, min_samples_leaf=1, min_samples_split=15, n_estimators=300; total time=   0.8s\n",
      "[CV] END max_depth=15, max_features=sqrt, min_samples_leaf=1, min_samples_split=15, n_estimators=300; total time=   0.8s\n",
      "[CV] END max_depth=15, max_features=sqrt, min_samples_leaf=1, min_samples_split=15, n_estimators=300; total time=   0.8s\n",
      "[CV] END max_depth=5, max_features=sqrt, min_samples_leaf=2, min_samples_split=10, n_estimators=700; total time=   1.7s\n",
      "[CV] END max_depth=5, max_features=sqrt, min_samples_leaf=2, min_samples_split=10, n_estimators=700; total time=   1.9s\n",
      "[CV] END max_depth=5, max_features=sqrt, min_samples_leaf=2, min_samples_split=10, n_estimators=700; total time=   2.2s\n",
      "[CV] END max_depth=5, max_features=sqrt, min_samples_leaf=2, min_samples_split=10, n_estimators=700; total time=   3.2s\n",
      "[CV] END max_depth=5, max_features=sqrt, min_samples_leaf=2, min_samples_split=10, n_estimators=700; total time=   1.7s\n",
      "[CV] END max_depth=20, max_features=auto, min_samples_leaf=1, min_samples_split=15, n_estimators=700; total time=   2.5s\n",
      "[CV] END max_depth=20, max_features=auto, min_samples_leaf=1, min_samples_split=15, n_estimators=700; total time=   2.5s\n",
      "[CV] END max_depth=20, max_features=auto, min_samples_leaf=1, min_samples_split=15, n_estimators=700; total time=   2.5s\n",
      "[CV] END max_depth=20, max_features=auto, min_samples_leaf=1, min_samples_split=15, n_estimators=700; total time=   2.5s\n",
      "[CV] END max_depth=20, max_features=auto, min_samples_leaf=1, min_samples_split=15, n_estimators=700; total time=   2.5s\n"
     ]
    },
    {
     "data": {
      "text/plain": [
       "RandomizedSearchCV(cv=5, estimator=RandomForestRegressor(), n_jobs=1,\n",
       "                   param_distributions={'max_depth': [5, 10, 15, 20, 25, 30],\n",
       "                                        'max_features': ['auto', 'sqrt'],\n",
       "                                        'min_samples_leaf': [1, 2, 5, 10],\n",
       "                                        'min_samples_split': [2, 5, 10, 15,\n",
       "                                                              100],\n",
       "                                        'n_estimators': [100, 200, 300, 400,\n",
       "                                                         500, 600, 700, 800,\n",
       "                                                         900, 1000, 1100,\n",
       "                                                         1200]},\n",
       "                   random_state=42, scoring='neg_mean_squared_error',\n",
       "                   verbose=2)"
      ]
     },
     "execution_count": 77,
     "metadata": {},
     "output_type": "execute_result"
    }
   ],
   "source": [
    "rf_random.fit(xtrain,ytrain)"
   ]
  },
  {
   "cell_type": "code",
   "execution_count": 78,
   "id": "f6162961",
   "metadata": {},
   "outputs": [
    {
     "data": {
      "text/plain": [
       "array([0.58658595, 0.42032545, 0.08707406, 0.10373151, 0.53717686,\n",
       "       0.24416038, 0.46598373, 0.06787474, 0.52739243, 0.47715271,\n",
       "       0.58817882, 0.52432331, 0.4531033 , 0.50942364, 0.13188455,\n",
       "       0.40378697, 0.57623314, 0.61966182, 0.62862134, 0.4781783 ,\n",
       "       0.41841653, 0.1972434 , 0.53717686, 0.66221503, 0.45105387,\n",
       "       0.47402813, 0.48190018, 0.10241139, 0.5163299 , 0.3251784 ,\n",
       "       0.60607933, 0.55696678, 0.58817882, 0.30188891, 0.50942364,\n",
       "       0.36324569, 0.60031846, 0.64055241, 0.48902724, 0.63594752,\n",
       "       0.55426639, 0.20797773, 0.42032545, 0.48190018, 0.52432331,\n",
       "       0.5715857 , 0.58162903, 0.54115408, 0.5594892 , 0.52541308,\n",
       "       0.13360473, 0.52739243, 0.57623314, 0.13404179, 0.48902724,\n",
       "       0.57787002, 0.54369172, 0.52349253, 0.57572548, 0.58817882,\n",
       "       0.30895841, 0.20797773, 0.4587189 , 0.2319182 , 0.47855636,\n",
       "       0.57572548, 0.56661928, 0.6685355 , 0.47255152, 0.53717686,\n",
       "       0.39961076, 0.50396026, 0.58658595, 0.67215028, 0.25710516,\n",
       "       0.21926877, 0.185771  , 0.49363721, 0.64055241, 0.50839548,\n",
       "       0.5280791 , 0.47855636, 0.29478285, 0.53717686, 0.4587189 ,\n",
       "       0.55696678, 0.43656861, 0.54115408, 0.53717686, 0.42032545,\n",
       "       0.11035495, 0.52432331, 0.20797773, 0.48902724, 0.29537162,\n",
       "       0.54115408, 0.4531033 , 0.53939752, 0.40429085, 0.50839548,\n",
       "       0.57787002, 0.31719275, 0.48139214, 0.43282939, 0.20181283,\n",
       "       0.26229163, 0.61966182, 0.60607933, 0.4781783 , 0.67215028,\n",
       "       0.27936906, 0.57037226, 0.48902724, 0.48190018, 0.53198921,\n",
       "       0.43656861, 0.59843341, 0.47231808, 0.43882915, 0.43656861,\n",
       "       0.27363536, 0.37364428, 0.52349253, 0.60607933, 0.53717686,\n",
       "       0.53717686, 0.64055241, 0.51024781, 0.40429085, 0.24654474,\n",
       "       0.50839548, 0.31719275, 0.29478285, 0.07322639, 0.57572548,\n",
       "       0.37364428, 0.4587189 , 0.59843341, 0.4781783 , 0.50839548,\n",
       "       0.48190018, 0.14136232, 0.29478285, 0.29478285, 0.53717686,\n",
       "       0.57572548, 0.4531033 , 0.58162903, 0.53717686, 0.32573512,\n",
       "       0.58658595, 0.39961076, 0.52349253, 0.1069933 , 0.53717686,\n",
       "       0.64055241, 0.64055241, 0.53198921, 0.52349253, 0.33538323,\n",
       "       0.54369172, 0.26229163, 0.07322639, 0.54369172, 0.57623314,\n",
       "       0.1069933 , 0.55426639, 0.42590071, 0.53198921, 0.27018404,\n",
       "       0.57572548, 0.1381202 , 0.20992108, 0.3251784 , 0.37364428,\n",
       "       0.48190018, 0.4587189 , 0.57037226, 0.46598373, 0.56245625,\n",
       "       0.4587189 , 0.36324569, 0.50069307, 0.57572548, 0.43656861,\n",
       "       0.21199145, 0.10373151, 0.47715271, 0.58658595, 0.6685355 ,\n",
       "       0.34614099, 0.54571714, 0.62862134, 0.3037213 , 0.42855062,\n",
       "       0.47255152, 0.49844852, 0.31719275, 0.48190018, 0.57623314,\n",
       "       0.37364428, 0.23088225, 0.57858882, 0.57572548, 0.51844521,\n",
       "       0.57572548, 0.47231808, 0.66221503, 0.57858882, 0.57572548,\n",
       "       0.33538323, 0.5280791 , 0.24416038, 0.24416038, 0.4531033 ,\n",
       "       0.60607933, 0.21081111, 0.57037226, 0.44601419, 0.39961076,\n",
       "       0.47255152, 0.45105387, 0.47871472, 0.60031846, 0.62862134,\n",
       "       0.47715271, 0.38213696, 0.49844852, 0.45105387, 0.57787002,\n",
       "       0.5594892 , 0.54115408, 0.48001245, 0.4587189 , 0.27936906,\n",
       "       0.5163299 , 0.6685355 , 0.30895841, 0.5594892 , 0.42960412,\n",
       "       0.52739243, 0.3251784 , 0.61966182, 0.37364428, 0.55426639,\n",
       "       0.45900966, 0.44601419, 0.07390943, 0.48190018, 0.10611182,\n",
       "       0.4587189 , 0.4587189 , 0.46598373, 0.25882223, 0.50396026,\n",
       "       0.46598373, 0.47855636, 0.57037226, 0.34614099, 0.42032545,\n",
       "       0.58041473, 0.11035495, 0.52432331, 0.58041473, 0.64055241,\n",
       "       0.53717686, 0.25882223, 0.36324569, 0.53717686, 0.42960412,\n",
       "       0.55426639, 0.49844852, 0.40764749, 0.57572548, 0.18229078,\n",
       "       0.27018404, 0.11035495, 0.58658595, 0.42032545, 0.51160248,\n",
       "       0.46497916, 0.27018404, 0.58817882, 0.50069307, 0.61966182,\n",
       "       0.5114836 , 0.53717686, 0.48139214, 0.48139214, 0.30470291,\n",
       "       0.56245625, 0.56661928, 0.26738512, 0.3339908 , 0.40764749,\n",
       "       0.53198921, 0.42855062, 0.40429085, 0.47855636, 0.4781783 ,\n",
       "       0.52349253, 0.58658595, 0.54571714, 0.5142585 , 0.40378697,\n",
       "       0.4781783 , 0.57572548, 0.56603047, 0.29478285, 0.50396026,\n",
       "       0.4587189 , 0.39961076, 0.52432331, 0.52349253, 0.23564913,\n",
       "       0.13404179, 0.34742145, 0.51844521, 0.06102785, 0.58658595,\n",
       "       0.48001245, 0.57037226, 0.47255152, 0.60607933, 0.55696678,\n",
       "       0.51111534, 0.48190018, 0.66221503, 0.58658595, 0.1069933 ,\n",
       "       0.57787002, 0.46598373, 0.55109984, 0.44445927, 0.52739243,\n",
       "       0.50839548, 0.58658595, 0.54115408, 0.4531033 , 0.60607933,\n",
       "       0.5163299 , 0.60607933, 0.30895841, 0.09552393, 0.30188891,\n",
       "       0.47402813, 0.43282939, 0.20797773, 0.37783641, 0.4781783 ,\n",
       "       0.23564913, 0.52349253, 0.4531033 , 0.23564913, 0.46598373,\n",
       "       0.52541308, 0.11035495, 0.06087089, 0.48139214, 0.4781783 ,\n",
       "       0.5114836 , 0.43882915, 0.36324569, 0.54571714, 0.30470291,\n",
       "       0.54369172, 0.06584137, 0.40378697, 0.45105387, 0.20992108,\n",
       "       0.45105387, 0.51111534, 0.50942364, 0.49618175, 0.58041473,\n",
       "       0.47255152, 0.11035495, 0.4531033 ])"
      ]
     },
     "execution_count": 78,
     "metadata": {},
     "output_type": "execute_result"
    }
   ],
   "source": [
    "rf_random.predict(xtest)"
   ]
  },
  {
   "cell_type": "code",
   "execution_count": 79,
   "id": "82e827e2",
   "metadata": {},
   "outputs": [
    {
     "data": {
      "text/plain": [
       "<matplotlib.collections.PathCollection at 0x267e8f10f10>"
      ]
     },
     "execution_count": 79,
     "metadata": {},
     "output_type": "execute_result"
    },
    {
     "data": {
      "image/png": "[encoded data removed]",
      "text/plain": [
       "<Figure size 432x288 with 1 Axes>"
      ]
     },
     "metadata": {
      "needs_background": "light"
     },
     "output_type": "display_data"
    }
   ],
   "source": [
    "plt.scatter(ytest, rf_random.predict(xtest))"
   ]
  },
  {
   "cell_type": "code",
   "execution_count": 80,
   "id": "e74c1e56",
   "metadata": {},
   "outputs": [
    {
     "data": {
      "text/plain": [
       "0.39040062518414675"
      ]
     },
     "execution_count": 80,
     "metadata": {},
     "output_type": "execute_result"
    }
   ],
   "source": [
    "maeRand = mean_absolute_error(ytest, rf_random.predict(xtest))\n",
    "maeRand"
   ]
  },
  {
   "cell_type": "code",
   "execution_count": 75,
   "id": "524f9d6f",
   "metadata": {},
   "outputs": [],
   "source": [
    "import pickle\n",
    "filename = 'FinalModel.sav'\n",
    "pickle.dump(modelSVR, open(filename, \"wb\"))"
   ]
  },
  {
   "cell_type": "code",
   "execution_count": 76,
   "id": "b09a9b6c",
   "metadata": {},
   "outputs": [],
   "source": [
    "loaded_model = pickle.load(open(filename, 'rb'))"
   ]
  },
  {
   "cell_type": "code",
   "execution_count": 77,
   "id": "549ec912",
   "metadata": {},
   "outputs": [],
   "source": [
    "result = loaded_model.predict(xtest)"
   ]
  },
  {
   "cell_type": "code",
   "execution_count": 78,
   "id": "03a983b0",
   "metadata": {},
   "outputs": [
    {
     "data": {
      "text/plain": [
       "numpy.ndarray"
      ]
     },
     "execution_count": 78,
     "metadata": {},
     "output_type": "execute_result"
    }
   ],
   "source": [
    "type(result)"
   ]
  },
  {
   "cell_type": "code",
   "execution_count": 79,
   "id": "4684a9bc",
   "metadata": {},
   "outputs": [
    {
     "data": {
      "text/plain": [
       "0.3720770984848567"
      ]
     },
     "execution_count": 79,
     "metadata": {},
     "output_type": "execute_result"
    }
   ],
   "source": [
    "mean_absolute_error(ytest,result)"
   ]
  },
  {
   "cell_type": "code",
   "execution_count": 80,
   "id": "13b4cd0c",
   "metadata": {},
   "outputs": [],
   "source": [
    "## trying to predict"
   ]
  },
  {
   "cell_type": "code",
   "execution_count": 81,
   "id": "415a9d3e",
   "metadata": {},
   "outputs": [],
   "source": [
    "pickle_out = open(\"SVMFinalModel.pkl\", \"wb\")\n",
    "pickle.dump(modelSVR, pickle_out)\n",
    "pickle_out.close()"
   ]
  },
  {
   "cell_type": "code",
   "execution_count": 82,
   "id": "57d7b7b5",
   "metadata": {},
   "outputs": [
    {
     "data": {
      "text/plain": [
       "pandas.core.frame.DataFrame"
      ]
     },
     "execution_count": 82,
     "metadata": {},
     "output_type": "execute_result"
    }
   ],
   "source": [
    "type(xtest)"
   ]
  },
  {
   "cell_type": "code",
   "execution_count": 83,
   "id": "c4b08559",
   "metadata": {},
   "outputs": [
    {
     "data": {
      "text/html": [
       "<div>\n",
       "<style scoped>\n",
       "    .dataframe tbody tr th:only-of-type {\n",
       "        vertical-align: middle;\n",
       "    }\n",
       "\n",
       "    .dataframe tbody tr th {\n",
       "        vertical-align: top;\n",
       "    }\n",
       "\n",
       "    .dataframe thead th {\n",
       "        text-align: right;\n",
       "    }\n",
       "</style>\n",
       "<table border=\"1\" class=\"dataframe\">\n",
       "  <thead>\n",
       "    <tr style=\"text-align: right;\">\n",
       "      <th></th>\n",
       "      <th>Battery Voltage AVG</th>\n",
       "      <th>Temperature AVG</th>\n",
       "      <th>Relative Humidity AVG</th>\n",
       "      <th>Wind Speed Daily AVG</th>\n",
       "      <th>Solare Radiation AVG</th>\n",
       "    </tr>\n",
       "  </thead>\n",
       "  <tbody>\n",
       "    <tr>\n",
       "      <th>1249</th>\n",
       "      <td>0.700413</td>\n",
       "      <td>0.508260</td>\n",
       "      <td>0.609281</td>\n",
       "      <td>0.143372</td>\n",
       "      <td>0.895050</td>\n",
       "    </tr>\n",
       "    <tr>\n",
       "      <th>1054</th>\n",
       "      <td>0.565083</td>\n",
       "      <td>0.968006</td>\n",
       "      <td>0.317474</td>\n",
       "      <td>0.278578</td>\n",
       "      <td>0.665691</td>\n",
       "    </tr>\n",
       "    <tr>\n",
       "      <th>1744</th>\n",
       "      <td>0.819731</td>\n",
       "      <td>0.434058</td>\n",
       "      <td>0.461340</td>\n",
       "      <td>0.106113</td>\n",
       "      <td>0.096458</td>\n",
       "    </tr>\n",
       "    <tr>\n",
       "      <th>1749</th>\n",
       "      <td>0.843492</td>\n",
       "      <td>0.373330</td>\n",
       "      <td>0.078029</td>\n",
       "      <td>0.156726</td>\n",
       "      <td>0.044043</td>\n",
       "    </tr>\n",
       "    <tr>\n",
       "      <th>1461</th>\n",
       "      <td>0.622934</td>\n",
       "      <td>0.830753</td>\n",
       "      <td>0.079626</td>\n",
       "      <td>0.048151</td>\n",
       "      <td>0.961453</td>\n",
       "    </tr>\n",
       "  </tbody>\n",
       "</table>\n",
       "</div>"
      ],
      "text/plain": [
       "      Battery Voltage AVG  Temperature AVG  Relative Humidity AVG  \\\n",
       "1249             0.700413         0.508260               0.609281   \n",
       "1054             0.565083         0.968006               0.317474   \n",
       "1744             0.819731         0.434058               0.461340   \n",
       "1749             0.843492         0.373330               0.078029   \n",
       "1461             0.622934         0.830753               0.079626   \n",
       "\n",
       "      Wind Speed Daily AVG  Solare Radiation AVG  \n",
       "1249              0.143372              0.895050  \n",
       "1054              0.278578              0.665691  \n",
       "1744              0.106113              0.096458  \n",
       "1749              0.156726              0.044043  \n",
       "1461              0.048151              0.961453  "
      ]
     },
     "execution_count": 83,
     "metadata": {},
     "output_type": "execute_result"
    }
   ],
   "source": [
    "xtest.head()"
   ]
  },
  {
   "cell_type": "code",
   "execution_count": 84,
   "id": "41120334",
   "metadata": {},
   "outputs": [
    {
     "data": {
      "text/plain": [
       "(378, 5)"
      ]
     },
     "execution_count": 84,
     "metadata": {},
     "output_type": "execute_result"
    }
   ],
   "source": [
    "xtest.shape"
   ]
  },
  {
   "cell_type": "code",
   "execution_count": 85,
   "id": "d41cc711",
   "metadata": {},
   "outputs": [
    {
     "data": {
      "text/plain": [
       "pandas.core.frame.DataFrame"
      ]
     },
     "execution_count": 85,
     "metadata": {},
     "output_type": "execute_result"
    }
   ],
   "source": [
    "type(train)"
   ]
  },
  {
   "cell_type": "code",
   "execution_count": 86,
   "id": "9ac22e66",
   "metadata": {},
   "outputs": [
    {
     "data": {
      "text/html": [
       "<div>\n",
       "<style scoped>\n",
       "    .dataframe tbody tr th:only-of-type {\n",
       "        vertical-align: middle;\n",
       "    }\n",
       "\n",
       "    .dataframe tbody tr th {\n",
       "        vertical-align: top;\n",
       "    }\n",
       "\n",
       "    .dataframe thead th {\n",
       "        text-align: right;\n",
       "    }\n",
       "</style>\n",
       "<table border=\"1\" class=\"dataframe\">\n",
       "  <thead>\n",
       "    <tr style=\"text-align: right;\">\n",
       "      <th></th>\n",
       "      <th>Battery Voltage AVG</th>\n",
       "      <th>Temperature AVG</th>\n",
       "      <th>Relative Humidity AVG</th>\n",
       "      <th>Wind Speed Daily AVG</th>\n",
       "      <th>Solare Radiation AVG</th>\n",
       "    </tr>\n",
       "  </thead>\n",
       "  <tbody>\n",
       "    <tr>\n",
       "      <th>34</th>\n",
       "      <td>13.64375</td>\n",
       "      <td>26.321667</td>\n",
       "      <td>19.715</td>\n",
       "      <td>27.839583</td>\n",
       "      <td>88.49625</td>\n",
       "    </tr>\n",
       "  </tbody>\n",
       "</table>\n",
       "</div>"
      ],
      "text/plain": [
       "    Battery Voltage AVG  Temperature AVG  Relative Humidity AVG  \\\n",
       "34             13.64375        26.321667                 19.715   \n",
       "\n",
       "    Wind Speed Daily AVG  Solare Radiation AVG  \n",
       "34             27.839583              88.49625  "
      ]
     },
     "execution_count": 86,
     "metadata": {},
     "output_type": "execute_result"
    }
   ],
   "source": [
    "new_df_normal = train\n",
    "new_df_normal.shape\n",
    "new_df_normal.head(1)"
   ]
  },
  {
   "cell_type": "code",
   "execution_count": 87,
   "id": "62666ac5",
   "metadata": {},
   "outputs": [
    {
     "data": {
      "text/html": [
       "<div>\n",
       "<style scoped>\n",
       "    .dataframe tbody tr th:only-of-type {\n",
       "        vertical-align: middle;\n",
       "    }\n",
       "\n",
       "    .dataframe tbody tr th {\n",
       "        vertical-align: top;\n",
       "    }\n",
       "\n",
       "    .dataframe thead th {\n",
       "        text-align: right;\n",
       "    }\n",
       "</style>\n",
       "<table border=\"1\" class=\"dataframe\">\n",
       "  <thead>\n",
       "    <tr style=\"text-align: right;\">\n",
       "      <th></th>\n",
       "      <th>Battery Voltage AVG</th>\n",
       "      <th>Temperature AVG</th>\n",
       "      <th>Relative Humidity AVG</th>\n",
       "      <th>Wind Speed Daily AVG</th>\n",
       "      <th>Solare Radiation AVG</th>\n",
       "    </tr>\n",
       "  </thead>\n",
       "  <tbody>\n",
       "    <tr>\n",
       "      <th>0</th>\n",
       "      <td>13.643750</td>\n",
       "      <td>26.321667</td>\n",
       "      <td>19.715000</td>\n",
       "      <td>27.839583</td>\n",
       "      <td>88.496250</td>\n",
       "    </tr>\n",
       "    <tr>\n",
       "      <th>1</th>\n",
       "      <td>13.749583</td>\n",
       "      <td>31.300000</td>\n",
       "      <td>21.690708</td>\n",
       "      <td>2.245833</td>\n",
       "      <td>93.660417</td>\n",
       "    </tr>\n",
       "    <tr>\n",
       "      <th>2</th>\n",
       "      <td>13.461250</td>\n",
       "      <td>46.447917</td>\n",
       "      <td>27.211250</td>\n",
       "      <td>17.163625</td>\n",
       "      <td>138.387000</td>\n",
       "    </tr>\n",
       "    <tr>\n",
       "      <th>3</th>\n",
       "      <td>13.532083</td>\n",
       "      <td>40.979583</td>\n",
       "      <td>28.335708</td>\n",
       "      <td>19.591167</td>\n",
       "      <td>176.382667</td>\n",
       "    </tr>\n",
       "    <tr>\n",
       "      <th>4</th>\n",
       "      <td>13.216250</td>\n",
       "      <td>38.260417</td>\n",
       "      <td>74.329167</td>\n",
       "      <td>65.138333</td>\n",
       "      <td>27.791292</td>\n",
       "    </tr>\n",
       "    <tr>\n",
       "      <th>...</th>\n",
       "      <td>...</td>\n",
       "      <td>...</td>\n",
       "      <td>...</td>\n",
       "      <td>...</td>\n",
       "      <td>...</td>\n",
       "    </tr>\n",
       "    <tr>\n",
       "      <th>1885</th>\n",
       "      <td>13.648333</td>\n",
       "      <td>26.823750</td>\n",
       "      <td>99.854167</td>\n",
       "      <td>3.166208</td>\n",
       "      <td>142.698917</td>\n",
       "    </tr>\n",
       "    <tr>\n",
       "      <th>1886</th>\n",
       "      <td>13.648333</td>\n",
       "      <td>26.823750</td>\n",
       "      <td>99.854167</td>\n",
       "      <td>3.166208</td>\n",
       "      <td>142.698917</td>\n",
       "    </tr>\n",
       "    <tr>\n",
       "      <th>1887</th>\n",
       "      <td>13.168750</td>\n",
       "      <td>29.702917</td>\n",
       "      <td>100.000000</td>\n",
       "      <td>45.915000</td>\n",
       "      <td>37.873708</td>\n",
       "    </tr>\n",
       "    <tr>\n",
       "      <th>1888</th>\n",
       "      <td>13.056667</td>\n",
       "      <td>32.857333</td>\n",
       "      <td>100.000000</td>\n",
       "      <td>65.110667</td>\n",
       "      <td>16.593800</td>\n",
       "    </tr>\n",
       "    <tr>\n",
       "      <th>1889</th>\n",
       "      <td>13.500000</td>\n",
       "      <td>25.000000</td>\n",
       "      <td>50.000000</td>\n",
       "      <td>20.500000</td>\n",
       "      <td>200.000000</td>\n",
       "    </tr>\n",
       "  </tbody>\n",
       "</table>\n",
       "<p>1890 rows × 5 columns</p>\n",
       "</div>"
      ],
      "text/plain": [
       "      Battery Voltage AVG  Temperature AVG  Relative Humidity AVG  \\\n",
       "0               13.643750        26.321667              19.715000   \n",
       "1               13.749583        31.300000              21.690708   \n",
       "2               13.461250        46.447917              27.211250   \n",
       "3               13.532083        40.979583              28.335708   \n",
       "4               13.216250        38.260417              74.329167   \n",
       "...                   ...              ...                    ...   \n",
       "1885            13.648333        26.823750              99.854167   \n",
       "1886            13.648333        26.823750              99.854167   \n",
       "1887            13.168750        29.702917             100.000000   \n",
       "1888            13.056667        32.857333             100.000000   \n",
       "1889            13.500000        25.000000              50.000000   \n",
       "\n",
       "      Wind Speed Daily AVG  Solare Radiation AVG  \n",
       "0                27.839583             88.496250  \n",
       "1                 2.245833             93.660417  \n",
       "2                17.163625            138.387000  \n",
       "3                19.591167            176.382667  \n",
       "4                65.138333             27.791292  \n",
       "...                    ...                   ...  \n",
       "1885              3.166208            142.698917  \n",
       "1886              3.166208            142.698917  \n",
       "1887             45.915000             37.873708  \n",
       "1888             65.110667             16.593800  \n",
       "1889             20.500000            200.000000  \n",
       "\n",
       "[1890 rows x 5 columns]"
      ]
     },
     "execution_count": 87,
     "metadata": {},
     "output_type": "execute_result"
    }
   ],
   "source": [
    "input_row = pd.DataFrame({'Battery Voltage AVG': [13.5],\n",
    "                    'Temperature AVG' : [25.0],\n",
    "                    'Relative Humidity AVG' : [50.0],\n",
    "                    'Wind Speed Daily AVG' : [20.5],\n",
    "                    'Solare Radiation AVG' : [200.0]})\n",
    "\n",
    "new_df_normal = pd.concat([new_df_normal, input_row], ignore_index = True, axis = 0)\n",
    "\n",
    "new_df_normal"
   ]
  },
  {
   "cell_type": "code",
   "execution_count": 88,
   "id": "c32811eb",
   "metadata": {},
   "outputs": [],
   "source": [
    "actual_real_input = normal.fit_transform(new_df_normal)"
   ]
  },
  {
   "cell_type": "code",
   "execution_count": 89,
   "id": "37dca52d",
   "metadata": {},
   "outputs": [
    {
     "data": {
      "text/plain": [
       "numpy.ndarray"
      ]
     },
     "execution_count": 89,
     "metadata": {},
     "output_type": "execute_result"
    }
   ],
   "source": [
    "type(actual_real_input)"
   ]
  },
  {
   "cell_type": "code",
   "execution_count": 90,
   "id": "36d12249",
   "metadata": {},
   "outputs": [
    {
     "data": {
      "text/plain": [
       "array([[0.81301653, 0.39511884, 0.08388628, 0.4273917 , 0.2404423 ],\n",
       "       [0.94421488, 0.4960605 , 0.10643063, 0.03447791, 0.25447322],\n",
       "       [0.58677686, 0.80320263, 0.16942427, 0.263495  , 0.37599433],\n",
       "       ...,\n",
       "       [0.22417355, 0.46367773, 1.        , 0.70488448, 0.102902  ],\n",
       "       [0.08522727, 0.5276373 , 1.        , 0.99957526, 0.04508498],\n",
       "       [0.63481405, 0.36832047, 0.42946147, 0.31471484, 0.54339545]])"
      ]
     },
     "execution_count": 90,
     "metadata": {},
     "output_type": "execute_result"
    }
   ],
   "source": [
    "actual_real_input\n"
   ]
  },
  {
   "cell_type": "code",
   "execution_count": 91,
   "id": "4e11c380",
   "metadata": {},
   "outputs": [],
   "source": [
    "result_to_print = loaded_model.predict(actual_real_input)"
   ]
  },
  {
   "cell_type": "code",
   "execution_count": 92,
   "id": "5b36224f",
   "metadata": {},
   "outputs": [
    {
     "data": {
      "text/plain": [
       "numpy.ndarray"
      ]
     },
     "execution_count": 92,
     "metadata": {},
     "output_type": "execute_result"
    }
   ],
   "source": [
    "type(result_to_print)"
   ]
  },
  {
   "cell_type": "code",
   "execution_count": 93,
   "id": "90e18bec",
   "metadata": {},
   "outputs": [
    {
     "data": {
      "text/plain": [
       "array([0.20379278, 0.10041186, 0.01922434, ..., 0.10015208, 0.36175864,\n",
       "       0.10647481])"
      ]
     },
     "execution_count": 93,
     "metadata": {},
     "output_type": "execute_result"
    }
   ],
   "source": [
    "result_to_print"
   ]
  },
  {
   "cell_type": "code",
   "execution_count": 94,
   "id": "eb18c763",
   "metadata": {},
   "outputs": [
    {
     "data": {
      "text/plain": [
       "0.10647481010075198"
      ]
     },
     "execution_count": 94,
     "metadata": {},
     "output_type": "execute_result"
    }
   ],
   "source": [
    "result_to_print[-1]"
   ]
  },
  {
   "cell_type": "code",
   "execution_count": 95,
   "id": "7203f06a",
   "metadata": {},
   "outputs": [],
   "source": [
    "# needed to normalise the input data to the train data, as the model was trained to a 0-1 scale.\n",
    "# so took the input and added it to the dataframe. tried loc, but indexes were mixed. iloc doesnt add a new row, it just calls.\n",
    "# so used concat feature to concat existing test data, and a newly created input dataframe, it also straigtened the index\n",
    "# then predicted with the loaded model, and printed the last row result, which is actually the input numbers result"
   ]
  },
  {
   "cell_type": "code",
   "execution_count": 96,
   "id": "513818a5",
   "metadata": {},
   "outputs": [
    {
     "data": {
      "text/html": [
       "<div>\n",
       "<style scoped>\n",
       "    .dataframe tbody tr th:only-of-type {\n",
       "        vertical-align: middle;\n",
       "    }\n",
       "\n",
       "    .dataframe tbody tr th {\n",
       "        vertical-align: top;\n",
       "    }\n",
       "\n",
       "    .dataframe thead th {\n",
       "        text-align: right;\n",
       "    }\n",
       "</style>\n",
       "<table border=\"1\" class=\"dataframe\">\n",
       "  <thead>\n",
       "    <tr style=\"text-align: right;\">\n",
       "      <th></th>\n",
       "      <th>Battery Voltage AVG</th>\n",
       "      <th>Temperature AVG</th>\n",
       "      <th>Relative Humidity AVG</th>\n",
       "      <th>Wind Speed Daily AVG</th>\n",
       "      <th>Solare Radiation AVG</th>\n",
       "    </tr>\n",
       "  </thead>\n",
       "  <tbody>\n",
       "    <tr>\n",
       "      <th>34</th>\n",
       "      <td>13.643750</td>\n",
       "      <td>26.321667</td>\n",
       "      <td>19.715000</td>\n",
       "      <td>27.839583</td>\n",
       "      <td>88.496250</td>\n",
       "    </tr>\n",
       "    <tr>\n",
       "      <th>40</th>\n",
       "      <td>13.749583</td>\n",
       "      <td>31.300000</td>\n",
       "      <td>21.690708</td>\n",
       "      <td>2.245833</td>\n",
       "      <td>93.660417</td>\n",
       "    </tr>\n",
       "    <tr>\n",
       "      <th>77</th>\n",
       "      <td>13.461250</td>\n",
       "      <td>46.447917</td>\n",
       "      <td>27.211250</td>\n",
       "      <td>17.163625</td>\n",
       "      <td>138.387000</td>\n",
       "    </tr>\n",
       "    <tr>\n",
       "      <th>79</th>\n",
       "      <td>13.532083</td>\n",
       "      <td>40.979583</td>\n",
       "      <td>28.335708</td>\n",
       "      <td>19.591167</td>\n",
       "      <td>176.382667</td>\n",
       "    </tr>\n",
       "    <tr>\n",
       "      <th>83</th>\n",
       "      <td>13.216250</td>\n",
       "      <td>38.260417</td>\n",
       "      <td>74.329167</td>\n",
       "      <td>65.138333</td>\n",
       "      <td>27.791292</td>\n",
       "    </tr>\n",
       "  </tbody>\n",
       "</table>\n",
       "</div>"
      ],
      "text/plain": [
       "    Battery Voltage AVG  Temperature AVG  Relative Humidity AVG  \\\n",
       "34            13.643750        26.321667              19.715000   \n",
       "40            13.749583        31.300000              21.690708   \n",
       "77            13.461250        46.447917              27.211250   \n",
       "79            13.532083        40.979583              28.335708   \n",
       "83            13.216250        38.260417              74.329167   \n",
       "\n",
       "    Wind Speed Daily AVG  Solare Radiation AVG  \n",
       "34             27.839583             88.496250  \n",
       "40              2.245833             93.660417  \n",
       "77             17.163625            138.387000  \n",
       "79             19.591167            176.382667  \n",
       "83             65.138333             27.791292  "
      ]
     },
     "execution_count": 96,
     "metadata": {},
     "output_type": "execute_result"
    }
   ],
   "source": [
    "train.head()"
   ]
  },
  {
   "cell_type": "code",
   "execution_count": 97,
   "id": "a6f34410",
   "metadata": {},
   "outputs": [],
   "source": [
    "xtrainnew, xtestnew, ytrainnew, ytestnew = train_test_split(train,y,test_size = 0.2, random_state = 42)"
   ]
  },
  {
   "cell_type": "code",
   "execution_count": 98,
   "id": "6fd44c03",
   "metadata": {},
   "outputs": [
    {
     "data": {
      "text/plain": [
       "SVR()"
      ]
     },
     "execution_count": 98,
     "metadata": {},
     "output_type": "execute_result"
    }
   ],
   "source": [
    "modelSVR.fit(xtrainnew,ytrainnew)"
   ]
  },
  {
   "cell_type": "code",
   "execution_count": 99,
   "id": "bacf5ccf",
   "metadata": {},
   "outputs": [],
   "source": [
    "input_for_deployment = (13.5,25.0,50.0,50.0,200.0)"
   ]
  },
  {
   "cell_type": "code",
   "execution_count": 100,
   "id": "0797a893",
   "metadata": {},
   "outputs": [],
   "source": [
    "deploy_numpy_input = np.asarray(input_for_deployment)"
   ]
  },
  {
   "cell_type": "code",
   "execution_count": 101,
   "id": "9b534c9a",
   "metadata": {},
   "outputs": [
    {
     "data": {
      "text/plain": [
       "numpy.ndarray"
      ]
     },
     "execution_count": 101,
     "metadata": {},
     "output_type": "execute_result"
    }
   ],
   "source": [
    "type(deploy_numpy_input)"
   ]
  },
  {
   "cell_type": "code",
   "execution_count": 102,
   "id": "f8857a7c",
   "metadata": {},
   "outputs": [],
   "source": [
    "reshaped_input = deploy_numpy_input.reshape(1, -1)"
   ]
  },
  {
   "cell_type": "code",
   "execution_count": 103,
   "id": "52c0a9b4",
   "metadata": {},
   "outputs": [
    {
     "data": {
      "text/plain": [
       "array([0.08777201])"
      ]
     },
     "execution_count": 103,
     "metadata": {},
     "output_type": "execute_result"
    }
   ],
   "source": [
    "modelSVR.predict(reshaped_input)"
   ]
  },
  {
   "cell_type": "code",
   "execution_count": 104,
   "id": "03d3f3ff",
   "metadata": {},
   "outputs": [
    {
     "data": {
      "text/plain": [
       "0.39728051333995734"
      ]
     },
     "execution_count": 104,
     "metadata": {},
     "output_type": "execute_result"
    }
   ],
   "source": [
    "mean_absolute_error(ytestnew,modelSVR.predict(xtestnew))"
   ]
  },
  {
   "cell_type": "code",
   "execution_count": 105,
   "id": "d5da28fc",
   "metadata": {},
   "outputs": [],
   "source": [
    "newfilename = 'FinalModelNew.sav'\n",
    "pickle.dump(modelSVR, open(newfilename, \"wb\"))\n",
    "loaded_model_new = pickle.load(open(newfilename, 'rb'))"
   ]
  },
  {
   "cell_type": "code",
   "execution_count": 106,
   "id": "c003077c",
   "metadata": {},
   "outputs": [],
   "source": [
    "new_result = loaded_model_new.predict(reshaped_input)"
   ]
  },
  {
   "cell_type": "code",
   "execution_count": 107,
   "id": "cf2ab25c",
   "metadata": {},
   "outputs": [
    {
     "data": {
      "text/plain": [
       "array([0.08777201])"
      ]
     },
     "execution_count": 107,
     "metadata": {},
     "output_type": "execute_result"
    }
   ],
   "source": [
    "new_result"
   ]
  },
  {
   "cell_type": "code",
   "execution_count": 113,
   "id": "74c7aee2",
   "metadata": {},
   "outputs": [
    {
     "data": {
      "text/plain": [
       "13.79458333"
      ]
     },
     "execution_count": 113,
     "metadata": {},
     "output_type": "execute_result"
    },
    {
     "data": {
      "image/png": "[encoded data removed]",
      "text/plain": [
       "<Figure size 432x288 with 1 Axes>"
      ]
     },
     "metadata": {
      "needs_background": "light"
     },
     "output_type": "display_data"
    }
   ],
   "source": [
    "train['Battery Voltage AVG'].plot()\n",
    "train['Battery Voltage AVG'].max()"
   ]
  },
  {
   "cell_type": "code",
   "execution_count": 111,
   "id": "1e8f9123",
   "metadata": {},
   "outputs": [
    {
     "data": {
      "text/plain": [
       "<AxesSubplot:>"
      ]
     },
     "execution_count": 111,
     "metadata": {},
     "output_type": "execute_result"
    },
    {
     "data": {
      "image/png": "[encoded data removed]",
      "text/plain": [
       "<Figure size 432x288 with 1 Axes>"
      ]
     },
     "metadata": {
      "needs_background": "light"
     },
     "output_type": "display_data"
    }
   ],
   "source": [
    "train['Temperature AVG'].plot()"
   ]
  },
  {
   "cell_type": "code",
   "execution_count": 114,
   "id": "8fdaf3ce",
   "metadata": {},
   "outputs": [
    {
     "data": {
      "text/plain": [
       "array([0.20444188])"
      ]
     },
     "execution_count": 114,
     "metadata": {},
     "output_type": "execute_result"
    }
   ],
   "source": [
    "loaded_model.predict(reshaped_input)"
   ]
  },
  {
   "cell_type": "code",
   "execution_count": 115,
   "id": "382640b2",
   "metadata": {},
   "outputs": [
    {
     "data": {
      "text/plain": [
       "array([[ 13.5,  25. ,  50. ,  50. , 200. ]])"
      ]
     },
     "execution_count": 115,
     "metadata": {},
     "output_type": "execute_result"
    }
   ],
   "source": [
    "reshaped_input"
   ]
  },
  {
   "cell_type": "markdown",
   "id": "82777aac",
   "metadata": {},
   "source": [
    "## real input normalisation"
   ]
  },
  {
   "cell_type": "code",
   "execution_count": 116,
   "id": "69111137",
   "metadata": {},
   "outputs": [
    {
     "data": {
      "text/html": [
       "<div>\n",
       "<style scoped>\n",
       "    .dataframe tbody tr th:only-of-type {\n",
       "        vertical-align: middle;\n",
       "    }\n",
       "\n",
       "    .dataframe tbody tr th {\n",
       "        vertical-align: top;\n",
       "    }\n",
       "\n",
       "    .dataframe thead th {\n",
       "        text-align: right;\n",
       "    }\n",
       "</style>\n",
       "<table border=\"1\" class=\"dataframe\">\n",
       "  <thead>\n",
       "    <tr style=\"text-align: right;\">\n",
       "      <th></th>\n",
       "      <th>Battery Voltage AVG</th>\n",
       "      <th>Temperature AVG</th>\n",
       "      <th>Relative Humidity AVG</th>\n",
       "      <th>Wind Speed Daily AVG</th>\n",
       "      <th>Solare Radiation AVG</th>\n",
       "    </tr>\n",
       "  </thead>\n",
       "  <tbody>\n",
       "    <tr>\n",
       "      <th>34</th>\n",
       "      <td>13.64375</td>\n",
       "      <td>26.321667</td>\n",
       "      <td>19.715</td>\n",
       "      <td>27.839583</td>\n",
       "      <td>88.49625</td>\n",
       "    </tr>\n",
       "  </tbody>\n",
       "</table>\n",
       "</div>"
      ],
      "text/plain": [
       "    Battery Voltage AVG  Temperature AVG  Relative Humidity AVG  \\\n",
       "34             13.64375        26.321667                 19.715   \n",
       "\n",
       "    Wind Speed Daily AVG  Solare Radiation AVG  \n",
       "34             27.839583              88.49625  "
      ]
     },
     "execution_count": 116,
     "metadata": {},
     "output_type": "execute_result"
    }
   ],
   "source": [
    "train.head(1)"
   ]
  },
  {
   "cell_type": "code",
   "execution_count": 117,
   "id": "55258459",
   "metadata": {},
   "outputs": [],
   "source": [
    "bat_min = train['Battery Voltage AVG'].min()\n",
    "bat_max = train['Battery Voltage AVG'].max()\n",
    "\n",
    "tem_min = train['Temperature AVG'].min()\n",
    "tem_max = train['Temperature AVG'].max()\n",
    "\n",
    "hum_min = train['Relative Humidity AVG'].min()\n",
    "hum_max = train['Relative Humidity AVG'].max()\n",
    "\n",
    "win_min = train['Wind Speed Daily AVG'].min()\n",
    "win_max = train['Wind Speed Daily AVG'].max()\n",
    "\n",
    "sol_min = train['Solare Radiation AVG'].min()\n",
    "sol_max = train['Solare Radiation AVG'].max()"
   ]
  },
  {
   "cell_type": "code",
   "execution_count": 137,
   "id": "57185dba",
   "metadata": {},
   "outputs": [],
   "source": [
    "Input_num = (13.5,40.0, 19.8, 40.0, 100.0)\n",
    "input_np = np.asarray(Input_num)"
   ]
  },
  {
   "cell_type": "code",
   "execution_count": 138,
   "id": "75990e40",
   "metadata": {},
   "outputs": [],
   "source": [
    "input_np[0] = (input_np[0] - bat_min)/(bat_max-bat_min)\n",
    "input_np[1] = (input_np[1] - tem_min)/(tem_max-tem_min)\n",
    "input_np[2] = (input_np[2] - hum_min)/(hum_max-hum_min)\n",
    "input_np[3] = (input_np[3] - win_min)/(win_max-win_min)\n",
    "input_np[4] = (input_np[4] - sol_min)/(sol_max-sol_min)"
   ]
  },
  {
   "cell_type": "code",
   "execution_count": 139,
   "id": "0f59c83f",
   "metadata": {},
   "outputs": [
    {
     "data": {
      "text/plain": [
       "array([0.3581988])"
      ]
     },
     "execution_count": 139,
     "metadata": {},
     "output_type": "execute_result"
    }
   ],
   "source": [
    "r_input = input_np.reshape(1,-1)\n",
    "loaded_model.predict(r_input)"
   ]
  },
  {
   "cell_type": "code",
   "execution_count": 134,
   "id": "f28d2ddc",
   "metadata": {},
   "outputs": [],
   "source": []
  },
  {
   "cell_type": "code",
   "execution_count": null,
   "id": "5d2c9290",
   "metadata": {},
   "outputs": [],
   "source": []
  },
  {
   "cell_type": "code",
   "execution_count": null,
   "id": "220594ba",
   "metadata": {},
   "outputs": [],
   "source": []
  }
 ],
 "metadata": {
  "kernelspec": {
   "display_name": "Python 3",
   "language": "python",
   "name": "python3"
  },
  "language_info": {
   "codemirror_mode": {
    "name": "ipython",
    "version": 3
   },
   "file_extension": ".py",
   "mimetype": "text/x-python",
   "name": "python",
   "nbconvert_exporter": "python",
   "pygments_lexer": "ipython3",
   "version": "3.8.8"
  }
 },
 "nbformat": 4,
 "nbformat_minor": 5
}
